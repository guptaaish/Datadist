{
 "cells": [
  {
   "cell_type": "markdown",
   "metadata": {},
   "source": [
    "# Analytics test\n",
    "## The various steps performed on this data before the fitting of data is done.\n",
    "\n",
    "* Univariate analysis\n",
    "* NAN identification\n",
    "* Variance observation\n",
    "\n"
   ]
  },
  {
   "cell_type": "code",
   "execution_count": 1,
   "metadata": {},
   "outputs": [],
   "source": [
    "import pandas as pd\n",
    "import numpy as np\n",
    "import matplotlib.pyplot as plt\n",
    "import seaborn as sns\n",
    "from sklearn.linear_model import LogisticRegression\n",
    "from sklearn.model_selection import train_test_split\n",
    "from sklearn.metrics import roc_curve\n",
    "from sklearn.metrics import roc_auc_score\n",
    "from sklearn.metrics import confusion_matrix\n",
    "from sklearn.metrics import r2_score\n",
    "from sklearn.preprocessing import StandardScaler\n",
    "from sklearn.decomposition import PCA\n",
    "from sklearn.ensemble import RandomForestClassifier\n"
   ]
  },
  {
   "cell_type": "code",
   "execution_count": 2,
   "metadata": {},
   "outputs": [
    {
     "data": {
      "text/html": [
       "<div>\n",
       "<style scoped>\n",
       "    .dataframe tbody tr th:only-of-type {\n",
       "        vertical-align: middle;\n",
       "    }\n",
       "\n",
       "    .dataframe tbody tr th {\n",
       "        vertical-align: top;\n",
       "    }\n",
       "\n",
       "    .dataframe thead th {\n",
       "        text-align: right;\n",
       "    }\n",
       "</style>\n",
       "<table border=\"1\" class=\"dataframe\">\n",
       "  <thead>\n",
       "    <tr style=\"text-align: right;\">\n",
       "      <th></th>\n",
       "      <th>Machine_speed</th>\n",
       "      <th>Machine_state</th>\n",
       "      <th>M12_ENZYME_FLOW</th>\n",
       "      <th>M12_STABILIZER_FLOW</th>\n",
       "      <th>M12_TEMPERATURE</th>\n",
       "      <th>M12_WATER_NR</th>\n",
       "      <th>M12_WETTING_AGENT_FLOW</th>\n",
       "      <th>M18_TEMPERATURE</th>\n",
       "      <th>M19_RESERVE_NR</th>\n",
       "      <th>M19_STABILIZER_FLOW</th>\n",
       "      <th>M19_TEMPERATURE</th>\n",
       "      <th>M19_WETTING_AGENT_FLOW</th>\n",
       "    </tr>\n",
       "  </thead>\n",
       "  <tbody>\n",
       "    <tr>\n",
       "      <th>0</th>\n",
       "      <td>46.973335</td>\n",
       "      <td>0</td>\n",
       "      <td>2.499970</td>\n",
       "      <td>2.066773</td>\n",
       "      <td>54.559528</td>\n",
       "      <td>949946.0000</td>\n",
       "      <td>2.991859</td>\n",
       "      <td>98.685355</td>\n",
       "      <td>10730.5</td>\n",
       "      <td>1.525074</td>\n",
       "      <td>56.871289</td>\n",
       "      <td>2.157189</td>\n",
       "    </tr>\n",
       "    <tr>\n",
       "      <th>1</th>\n",
       "      <td>46.973335</td>\n",
       "      <td>0</td>\n",
       "      <td>2.497196</td>\n",
       "      <td>2.101614</td>\n",
       "      <td>54.962861</td>\n",
       "      <td>949984.6667</td>\n",
       "      <td>2.992938</td>\n",
       "      <td>98.727884</td>\n",
       "      <td>10731.0</td>\n",
       "      <td>1.508612</td>\n",
       "      <td>56.878337</td>\n",
       "      <td>2.152422</td>\n",
       "    </tr>\n",
       "    <tr>\n",
       "      <th>2</th>\n",
       "      <td>46.973335</td>\n",
       "      <td>0</td>\n",
       "      <td>2.499792</td>\n",
       "      <td>2.113061</td>\n",
       "      <td>54.796452</td>\n",
       "      <td>950017.6667</td>\n",
       "      <td>2.996020</td>\n",
       "      <td>98.700322</td>\n",
       "      <td>10732.0</td>\n",
       "      <td>1.514143</td>\n",
       "      <td>56.905778</td>\n",
       "      <td>2.108552</td>\n",
       "    </tr>\n",
       "    <tr>\n",
       "      <th>3</th>\n",
       "      <td>46.973335</td>\n",
       "      <td>0</td>\n",
       "      <td>2.499559</td>\n",
       "      <td>2.129736</td>\n",
       "      <td>54.731283</td>\n",
       "      <td>950052.8000</td>\n",
       "      <td>2.996281</td>\n",
       "      <td>98.639509</td>\n",
       "      <td>10732.4</td>\n",
       "      <td>1.488390</td>\n",
       "      <td>56.968360</td>\n",
       "      <td>2.086052</td>\n",
       "    </tr>\n",
       "    <tr>\n",
       "      <th>4</th>\n",
       "      <td>46.973335</td>\n",
       "      <td>0</td>\n",
       "      <td>2.500058</td>\n",
       "      <td>2.093854</td>\n",
       "      <td>54.844514</td>\n",
       "      <td>950088.5000</td>\n",
       "      <td>2.988235</td>\n",
       "      <td>98.521231</td>\n",
       "      <td>10733.0</td>\n",
       "      <td>1.509662</td>\n",
       "      <td>57.011485</td>\n",
       "      <td>2.090726</td>\n",
       "    </tr>\n",
       "    <tr>\n",
       "      <th>5</th>\n",
       "      <td>46.973335</td>\n",
       "      <td>0</td>\n",
       "      <td>2.501300</td>\n",
       "      <td>2.134929</td>\n",
       "      <td>54.719098</td>\n",
       "      <td>950120.0000</td>\n",
       "      <td>2.991909</td>\n",
       "      <td>98.391523</td>\n",
       "      <td>10734.0</td>\n",
       "      <td>1.516884</td>\n",
       "      <td>57.065533</td>\n",
       "      <td>2.095202</td>\n",
       "    </tr>\n",
       "    <tr>\n",
       "      <th>6</th>\n",
       "      <td>46.973335</td>\n",
       "      <td>0</td>\n",
       "      <td>2.500378</td>\n",
       "      <td>2.082958</td>\n",
       "      <td>54.993215</td>\n",
       "      <td>950159.4000</td>\n",
       "      <td>2.999112</td>\n",
       "      <td>98.262201</td>\n",
       "      <td>10734.4</td>\n",
       "      <td>1.492385</td>\n",
       "      <td>57.116243</td>\n",
       "      <td>2.094006</td>\n",
       "    </tr>\n",
       "    <tr>\n",
       "      <th>7</th>\n",
       "      <td>46.973335</td>\n",
       "      <td>0</td>\n",
       "      <td>2.499837</td>\n",
       "      <td>1.839825</td>\n",
       "      <td>54.788962</td>\n",
       "      <td>950182.0000</td>\n",
       "      <td>2.992971</td>\n",
       "      <td>98.198697</td>\n",
       "      <td>10735.0</td>\n",
       "      <td>1.505333</td>\n",
       "      <td>57.246765</td>\n",
       "      <td>2.104141</td>\n",
       "    </tr>\n",
       "    <tr>\n",
       "      <th>8</th>\n",
       "      <td>46.973335</td>\n",
       "      <td>0</td>\n",
       "      <td>2.499646</td>\n",
       "      <td>1.957902</td>\n",
       "      <td>55.084868</td>\n",
       "      <td>950223.0000</td>\n",
       "      <td>2.998823</td>\n",
       "      <td>98.072553</td>\n",
       "      <td>10736.0</td>\n",
       "      <td>1.511921</td>\n",
       "      <td>57.205077</td>\n",
       "      <td>2.110120</td>\n",
       "    </tr>\n",
       "    <tr>\n",
       "      <th>9</th>\n",
       "      <td>46.973335</td>\n",
       "      <td>0</td>\n",
       "      <td>2.498415</td>\n",
       "      <td>2.121513</td>\n",
       "      <td>55.056075</td>\n",
       "      <td>950257.8333</td>\n",
       "      <td>2.989491</td>\n",
       "      <td>97.944455</td>\n",
       "      <td>10736.5</td>\n",
       "      <td>1.476032</td>\n",
       "      <td>57.245964</td>\n",
       "      <td>2.104826</td>\n",
       "    </tr>\n",
       "  </tbody>\n",
       "</table>\n",
       "</div>"
      ],
      "text/plain": [
       "   Machine_speed  Machine_state  M12_ENZYME_FLOW  M12_STABILIZER_FLOW  \\\n",
       "0      46.973335              0         2.499970             2.066773   \n",
       "1      46.973335              0         2.497196             2.101614   \n",
       "2      46.973335              0         2.499792             2.113061   \n",
       "3      46.973335              0         2.499559             2.129736   \n",
       "4      46.973335              0         2.500058             2.093854   \n",
       "5      46.973335              0         2.501300             2.134929   \n",
       "6      46.973335              0         2.500378             2.082958   \n",
       "7      46.973335              0         2.499837             1.839825   \n",
       "8      46.973335              0         2.499646             1.957902   \n",
       "9      46.973335              0         2.498415             2.121513   \n",
       "\n",
       "   M12_TEMPERATURE  M12_WATER_NR  M12_WETTING_AGENT_FLOW  M18_TEMPERATURE  \\\n",
       "0        54.559528   949946.0000                2.991859        98.685355   \n",
       "1        54.962861   949984.6667                2.992938        98.727884   \n",
       "2        54.796452   950017.6667                2.996020        98.700322   \n",
       "3        54.731283   950052.8000                2.996281        98.639509   \n",
       "4        54.844514   950088.5000                2.988235        98.521231   \n",
       "5        54.719098   950120.0000                2.991909        98.391523   \n",
       "6        54.993215   950159.4000                2.999112        98.262201   \n",
       "7        54.788962   950182.0000                2.992971        98.198697   \n",
       "8        55.084868   950223.0000                2.998823        98.072553   \n",
       "9        55.056075   950257.8333                2.989491        97.944455   \n",
       "\n",
       "   M19_RESERVE_NR  M19_STABILIZER_FLOW  M19_TEMPERATURE  \\\n",
       "0         10730.5             1.525074        56.871289   \n",
       "1         10731.0             1.508612        56.878337   \n",
       "2         10732.0             1.514143        56.905778   \n",
       "3         10732.4             1.488390        56.968360   \n",
       "4         10733.0             1.509662        57.011485   \n",
       "5         10734.0             1.516884        57.065533   \n",
       "6         10734.4             1.492385        57.116243   \n",
       "7         10735.0             1.505333        57.246765   \n",
       "8         10736.0             1.511921        57.205077   \n",
       "9         10736.5             1.476032        57.245964   \n",
       "\n",
       "   M19_WETTING_AGENT_FLOW  \n",
       "0                2.157189  \n",
       "1                2.152422  \n",
       "2                2.108552  \n",
       "3                2.086052  \n",
       "4                2.090726  \n",
       "5                2.095202  \n",
       "6                2.094006  \n",
       "7                2.104141  \n",
       "8                2.110120  \n",
       "9                2.104826  "
      ]
     },
     "execution_count": 2,
     "metadata": {},
     "output_type": "execute_result"
    }
   ],
   "source": [
    "features = pd.read_csv('machine.csv')\n",
    "features.head(10)"
   ]
  },
  {
   "cell_type": "code",
   "execution_count": 3,
   "metadata": {},
   "outputs": [],
   "source": [
    "y = features.Machine_state\n",
    "x = features.drop(['Machine_state','Machine_speed'],axis = 1)"
   ]
  },
  {
   "cell_type": "markdown",
   "metadata": {},
   "source": [
    "### The function below performs the univariate analysis on data"
   ]
  },
  {
   "cell_type": "code",
   "execution_count": 4,
   "metadata": {},
   "outputs": [],
   "source": [
    "def deep_describe(data):\n",
    "    cmsq = data.describe()\n",
    "    \n",
    "    mode = data.mode(axis = 0,numeric_only=True)\n",
    "    mode = mode.dropna(axis = 0,how='any')\n",
    "    mode = mode.set_index([['mode']])\n",
    "    \n",
    "    median = pd.DataFrame(data.median()).transpose()\n",
    "    median = median.set_index([['median']])\n",
    "    \n",
    "    variance = pd.DataFrame(x.var(0)).T\n",
    "    variance = variance.set_index([['variance']])\n",
    "    \n",
    "    kurtosis = pd.DataFrame(data.kurtosis()).transpose()\n",
    "    kurtosis = kurtosis.set_index([['kurtosis']])\n",
    "    \n",
    "    skew = pd.DataFrame(data.skew()).transpose()\n",
    "    skew = skew.set_index([['skewness']])\n",
    "    \n",
    "    tr = [cmsq,variance,mode,median,skew,kurtosis]\n",
    "    return pd.concat(tr)"
   ]
  },
  {
   "cell_type": "code",
   "execution_count": 5,
   "metadata": {},
   "outputs": [
    {
     "data": {
      "text/html": [
       "<div>\n",
       "<style scoped>\n",
       "    .dataframe tbody tr th:only-of-type {\n",
       "        vertical-align: middle;\n",
       "    }\n",
       "\n",
       "    .dataframe tbody tr th {\n",
       "        vertical-align: top;\n",
       "    }\n",
       "\n",
       "    .dataframe thead th {\n",
       "        text-align: right;\n",
       "    }\n",
       "</style>\n",
       "<table border=\"1\" class=\"dataframe\">\n",
       "  <thead>\n",
       "    <tr style=\"text-align: right;\">\n",
       "      <th></th>\n",
       "      <th>M12_ENZYME_FLOW</th>\n",
       "      <th>M12_STABILIZER_FLOW</th>\n",
       "      <th>M12_TEMPERATURE</th>\n",
       "      <th>M12_WATER_NR</th>\n",
       "      <th>M12_WETTING_AGENT_FLOW</th>\n",
       "      <th>M18_TEMPERATURE</th>\n",
       "      <th>M19_RESERVE_NR</th>\n",
       "      <th>M19_STABILIZER_FLOW</th>\n",
       "      <th>M19_TEMPERATURE</th>\n",
       "      <th>M19_WETTING_AGENT_FLOW</th>\n",
       "    </tr>\n",
       "  </thead>\n",
       "  <tbody>\n",
       "    <tr>\n",
       "      <th>count</th>\n",
       "      <td>2.988000e+03</td>\n",
       "      <td>2.988000e+03</td>\n",
       "      <td>2.988000e+03</td>\n",
       "      <td>2.988000e+03</td>\n",
       "      <td>2988.000000</td>\n",
       "      <td>2.988000e+03</td>\n",
       "      <td>2988.000000</td>\n",
       "      <td>2988.000000</td>\n",
       "      <td>2.988000e+03</td>\n",
       "      <td>2988.000000</td>\n",
       "    </tr>\n",
       "    <tr>\n",
       "      <th>mean</th>\n",
       "      <td>2.170996e+00</td>\n",
       "      <td>1.705574e+00</td>\n",
       "      <td>5.451328e+01</td>\n",
       "      <td>9.902124e+05</td>\n",
       "      <td>2.374626</td>\n",
       "      <td>9.629589e+01</td>\n",
       "      <td>10958.558846</td>\n",
       "      <td>1.494842</td>\n",
       "      <td>5.747148e+01</td>\n",
       "      <td>1.324780</td>\n",
       "    </tr>\n",
       "    <tr>\n",
       "      <th>std</th>\n",
       "      <td>8.353066e-01</td>\n",
       "      <td>6.796562e-01</td>\n",
       "      <td>5.262175e+00</td>\n",
       "      <td>1.965182e+04</td>\n",
       "      <td>1.000699</td>\n",
       "      <td>9.441423e+00</td>\n",
       "      <td>147.473730</td>\n",
       "      <td>0.767476</td>\n",
       "      <td>5.761615e+00</td>\n",
       "      <td>0.545401</td>\n",
       "    </tr>\n",
       "    <tr>\n",
       "      <th>min</th>\n",
       "      <td>-8.560000e-07</td>\n",
       "      <td>-7.570000e-07</td>\n",
       "      <td>1.370000e-38</td>\n",
       "      <td>9.499460e+05</td>\n",
       "      <td>-0.000002</td>\n",
       "      <td>2.460000e-38</td>\n",
       "      <td>10730.500000</td>\n",
       "      <td>-0.000003</td>\n",
       "      <td>1.450000e-38</td>\n",
       "      <td>-0.018309</td>\n",
       "    </tr>\n",
       "    <tr>\n",
       "      <th>25%</th>\n",
       "      <td>2.491944e+00</td>\n",
       "      <td>1.974200e+00</td>\n",
       "      <td>5.473029e+01</td>\n",
       "      <td>9.776498e+05</td>\n",
       "      <td>2.249223</td>\n",
       "      <td>9.673316e+01</td>\n",
       "      <td>10872.000000</td>\n",
       "      <td>1.478241</td>\n",
       "      <td>5.712369e+01</td>\n",
       "      <td>1.489610</td>\n",
       "    </tr>\n",
       "    <tr>\n",
       "      <th>50%</th>\n",
       "      <td>2.498786e+00</td>\n",
       "      <td>1.997653e+00</td>\n",
       "      <td>5.499982e+01</td>\n",
       "      <td>9.937956e+05</td>\n",
       "      <td>2.936472</td>\n",
       "      <td>9.786367e+01</td>\n",
       "      <td>10916.000000</td>\n",
       "      <td>1.504285</td>\n",
       "      <td>5.820497e+01</td>\n",
       "      <td>1.499058</td>\n",
       "    </tr>\n",
       "    <tr>\n",
       "      <th>75%</th>\n",
       "      <td>2.502232e+00</td>\n",
       "      <td>2.003798e+00</td>\n",
       "      <td>5.525958e+01</td>\n",
       "      <td>1.006039e+06</td>\n",
       "      <td>2.999094</td>\n",
       "      <td>9.837613e+01</td>\n",
       "      <td>11059.000000</td>\n",
       "      <td>1.521707</td>\n",
       "      <td>5.880156e+01</td>\n",
       "      <td>1.502098</td>\n",
       "    </tr>\n",
       "    <tr>\n",
       "      <th>max</th>\n",
       "      <td>2.972470e+00</td>\n",
       "      <td>2.425751e+00</td>\n",
       "      <td>6.011282e+01</td>\n",
       "      <td>1.022285e+06</td>\n",
       "      <td>3.215173</td>\n",
       "      <td>1.007535e+02</td>\n",
       "      <td>11300.000000</td>\n",
       "      <td>4.151384</td>\n",
       "      <td>6.130416e+01</td>\n",
       "      <td>3.031350</td>\n",
       "    </tr>\n",
       "    <tr>\n",
       "      <th>variance</th>\n",
       "      <td>6.977371e-01</td>\n",
       "      <td>4.619326e-01</td>\n",
       "      <td>2.769049e+01</td>\n",
       "      <td>3.861939e+08</td>\n",
       "      <td>1.001398</td>\n",
       "      <td>8.914047e+01</td>\n",
       "      <td>21748.501079</td>\n",
       "      <td>0.589019</td>\n",
       "      <td>3.319621e+01</td>\n",
       "      <td>0.297462</td>\n",
       "    </tr>\n",
       "    <tr>\n",
       "      <th>mode</th>\n",
       "      <td>0.000000e+00</td>\n",
       "      <td>0.000000e+00</td>\n",
       "      <td>1.370000e-38</td>\n",
       "      <td>9.945230e+05</td>\n",
       "      <td>0.000000</td>\n",
       "      <td>2.460000e-38</td>\n",
       "      <td>10916.000000</td>\n",
       "      <td>0.000000</td>\n",
       "      <td>1.450000e-38</td>\n",
       "      <td>0.000000</td>\n",
       "    </tr>\n",
       "    <tr>\n",
       "      <th>median</th>\n",
       "      <td>2.498786e+00</td>\n",
       "      <td>1.997653e+00</td>\n",
       "      <td>5.499982e+01</td>\n",
       "      <td>9.937956e+05</td>\n",
       "      <td>2.936472</td>\n",
       "      <td>9.786367e+01</td>\n",
       "      <td>10916.000000</td>\n",
       "      <td>1.504285</td>\n",
       "      <td>5.820497e+01</td>\n",
       "      <td>1.499058</td>\n",
       "    </tr>\n",
       "    <tr>\n",
       "      <th>skewness</th>\n",
       "      <td>-2.178295e+00</td>\n",
       "      <td>-1.982022e+00</td>\n",
       "      <td>-9.797014e+00</td>\n",
       "      <td>-5.019219e-01</td>\n",
       "      <td>-1.655724</td>\n",
       "      <td>-9.365463e+00</td>\n",
       "      <td>0.634671</td>\n",
       "      <td>0.024143</td>\n",
       "      <td>-8.743522e+00</td>\n",
       "      <td>-1.536416</td>\n",
       "    </tr>\n",
       "    <tr>\n",
       "      <th>kurtosis</th>\n",
       "      <td>2.791542e+00</td>\n",
       "      <td>2.109631e+00</td>\n",
       "      <td>9.811778e+01</td>\n",
       "      <td>-7.217224e-01</td>\n",
       "      <td>1.258534</td>\n",
       "      <td>9.194298e+01</td>\n",
       "      <td>-0.486837</td>\n",
       "      <td>0.850135</td>\n",
       "      <td>8.389751e+01</td>\n",
       "      <td>2.304191</td>\n",
       "    </tr>\n",
       "  </tbody>\n",
       "</table>\n",
       "</div>"
      ],
      "text/plain": [
       "          M12_ENZYME_FLOW  M12_STABILIZER_FLOW  M12_TEMPERATURE  M12_WATER_NR  \\\n",
       "count        2.988000e+03         2.988000e+03     2.988000e+03  2.988000e+03   \n",
       "mean         2.170996e+00         1.705574e+00     5.451328e+01  9.902124e+05   \n",
       "std          8.353066e-01         6.796562e-01     5.262175e+00  1.965182e+04   \n",
       "min         -8.560000e-07        -7.570000e-07     1.370000e-38  9.499460e+05   \n",
       "25%          2.491944e+00         1.974200e+00     5.473029e+01  9.776498e+05   \n",
       "50%          2.498786e+00         1.997653e+00     5.499982e+01  9.937956e+05   \n",
       "75%          2.502232e+00         2.003798e+00     5.525958e+01  1.006039e+06   \n",
       "max          2.972470e+00         2.425751e+00     6.011282e+01  1.022285e+06   \n",
       "variance     6.977371e-01         4.619326e-01     2.769049e+01  3.861939e+08   \n",
       "mode         0.000000e+00         0.000000e+00     1.370000e-38  9.945230e+05   \n",
       "median       2.498786e+00         1.997653e+00     5.499982e+01  9.937956e+05   \n",
       "skewness    -2.178295e+00        -1.982022e+00    -9.797014e+00 -5.019219e-01   \n",
       "kurtosis     2.791542e+00         2.109631e+00     9.811778e+01 -7.217224e-01   \n",
       "\n",
       "          M12_WETTING_AGENT_FLOW  M18_TEMPERATURE  M19_RESERVE_NR  \\\n",
       "count                2988.000000     2.988000e+03     2988.000000   \n",
       "mean                    2.374626     9.629589e+01    10958.558846   \n",
       "std                     1.000699     9.441423e+00      147.473730   \n",
       "min                    -0.000002     2.460000e-38    10730.500000   \n",
       "25%                     2.249223     9.673316e+01    10872.000000   \n",
       "50%                     2.936472     9.786367e+01    10916.000000   \n",
       "75%                     2.999094     9.837613e+01    11059.000000   \n",
       "max                     3.215173     1.007535e+02    11300.000000   \n",
       "variance                1.001398     8.914047e+01    21748.501079   \n",
       "mode                    0.000000     2.460000e-38    10916.000000   \n",
       "median                  2.936472     9.786367e+01    10916.000000   \n",
       "skewness               -1.655724    -9.365463e+00        0.634671   \n",
       "kurtosis                1.258534     9.194298e+01       -0.486837   \n",
       "\n",
       "          M19_STABILIZER_FLOW  M19_TEMPERATURE  M19_WETTING_AGENT_FLOW  \n",
       "count             2988.000000     2.988000e+03             2988.000000  \n",
       "mean                 1.494842     5.747148e+01                1.324780  \n",
       "std                  0.767476     5.761615e+00                0.545401  \n",
       "min                 -0.000003     1.450000e-38               -0.018309  \n",
       "25%                  1.478241     5.712369e+01                1.489610  \n",
       "50%                  1.504285     5.820497e+01                1.499058  \n",
       "75%                  1.521707     5.880156e+01                1.502098  \n",
       "max                  4.151384     6.130416e+01                3.031350  \n",
       "variance             0.589019     3.319621e+01                0.297462  \n",
       "mode                 0.000000     1.450000e-38                0.000000  \n",
       "median               1.504285     5.820497e+01                1.499058  \n",
       "skewness             0.024143    -8.743522e+00               -1.536416  \n",
       "kurtosis             0.850135     8.389751e+01                2.304191  "
      ]
     },
     "execution_count": 5,
     "metadata": {},
     "output_type": "execute_result"
    }
   ],
   "source": [
    "deep_describe(x)"
   ]
  },
  {
   "cell_type": "markdown",
   "metadata": {},
   "source": [
    "### Null value analysis"
   ]
  },
  {
   "cell_type": "code",
   "execution_count": 6,
   "metadata": {},
   "outputs": [
    {
     "data": {
      "text/html": [
       "<div>\n",
       "<style scoped>\n",
       "    .dataframe tbody tr th:only-of-type {\n",
       "        vertical-align: middle;\n",
       "    }\n",
       "\n",
       "    .dataframe tbody tr th {\n",
       "        vertical-align: top;\n",
       "    }\n",
       "\n",
       "    .dataframe thead th {\n",
       "        text-align: right;\n",
       "    }\n",
       "</style>\n",
       "<table border=\"1\" class=\"dataframe\">\n",
       "  <thead>\n",
       "    <tr style=\"text-align: right;\">\n",
       "      <th></th>\n",
       "      <th>M12_ENZYME_FLOW</th>\n",
       "      <th>M12_STABILIZER_FLOW</th>\n",
       "      <th>M12_TEMPERATURE</th>\n",
       "      <th>M12_WATER_NR</th>\n",
       "      <th>M12_WETTING_AGENT_FLOW</th>\n",
       "      <th>M18_TEMPERATURE</th>\n",
       "      <th>M19_RESERVE_NR</th>\n",
       "      <th>M19_STABILIZER_FLOW</th>\n",
       "      <th>M19_TEMPERATURE</th>\n",
       "      <th>M19_WETTING_AGENT_FLOW</th>\n",
       "    </tr>\n",
       "  </thead>\n",
       "  <tbody>\n",
       "    <tr>\n",
       "      <th>total_null</th>\n",
       "      <td>0.0</td>\n",
       "      <td>0.0</td>\n",
       "      <td>0.0</td>\n",
       "      <td>0.0</td>\n",
       "      <td>0.0</td>\n",
       "      <td>0.0</td>\n",
       "      <td>0.0</td>\n",
       "      <td>0.0</td>\n",
       "      <td>0.0</td>\n",
       "      <td>0.0</td>\n",
       "    </tr>\n",
       "    <tr>\n",
       "      <th>percent_null</th>\n",
       "      <td>0.0</td>\n",
       "      <td>0.0</td>\n",
       "      <td>0.0</td>\n",
       "      <td>0.0</td>\n",
       "      <td>0.0</td>\n",
       "      <td>0.0</td>\n",
       "      <td>0.0</td>\n",
       "      <td>0.0</td>\n",
       "      <td>0.0</td>\n",
       "      <td>0.0</td>\n",
       "    </tr>\n",
       "  </tbody>\n",
       "</table>\n",
       "</div>"
      ],
      "text/plain": [
       "              M12_ENZYME_FLOW  M12_STABILIZER_FLOW  M12_TEMPERATURE  \\\n",
       "total_null                0.0                  0.0              0.0   \n",
       "percent_null              0.0                  0.0              0.0   \n",
       "\n",
       "              M12_WATER_NR  M12_WETTING_AGENT_FLOW  M18_TEMPERATURE  \\\n",
       "total_null             0.0                     0.0              0.0   \n",
       "percent_null           0.0                     0.0              0.0   \n",
       "\n",
       "              M19_RESERVE_NR  M19_STABILIZER_FLOW  M19_TEMPERATURE  \\\n",
       "total_null               0.0                  0.0              0.0   \n",
       "percent_null             0.0                  0.0              0.0   \n",
       "\n",
       "              M19_WETTING_AGENT_FLOW  \n",
       "total_null                       0.0  \n",
       "percent_null                     0.0  "
      ]
     },
     "execution_count": 6,
     "metadata": {},
     "output_type": "execute_result"
    }
   ],
   "source": [
    "total = x.isnull().sum()\n",
    "percent1 = x.isnull().sum()*100/x.isnull().count()\n",
    "percent = (round(percent1,1))\n",
    "missing_data = pd.concat([total,percent],axis = 1,keys = ['total_null','percent_null']).transpose()\n",
    "missing_data"
   ]
  },
  {
   "cell_type": "markdown",
   "metadata": {},
   "source": [
    "#### The variance in the above data is not to required scale so the scaling is done."
   ]
  },
  {
   "cell_type": "markdown",
   "metadata": {},
   "source": [
    "## Splitting the data\n",
    "Splitting of the data for testing and training of model in ratio 7:3"
   ]
  },
  {
   "cell_type": "code",
   "execution_count": 7,
   "metadata": {},
   "outputs": [],
   "source": [
    "x_train, x_test, y_train, y_test = train_test_split(x, y, test_size=0.3)"
   ]
  },
  {
   "cell_type": "markdown",
   "metadata": {},
   "source": [
    "Scaling of data Due to irregular variances"
   ]
  },
  {
   "cell_type": "code",
   "execution_count": 8,
   "metadata": {},
   "outputs": [],
   "source": [
    "scaler = StandardScaler().fit(x_train)\n",
    "x_train_scaled = pd.DataFrame(scaler.transform(x_train),index=x_train.index.values, columns=x_train.columns.values)\n",
    "x_test_scaled = pd.DataFrame(scaler.transform(x_test), index=x_test.index.values, columns=x_test.columns.values)"
   ]
  },
  {
   "cell_type": "code",
   "execution_count": 9,
   "metadata": {},
   "outputs": [
    {
     "name": "stderr",
     "output_type": "stream",
     "text": [
      "c:\\users\\aish.gupta\\appdata\\local\\programs\\python\\python36-32\\lib\\site-packages\\matplotlib\\axes\\_axes.py:6462: UserWarning: The 'normed' kwarg is deprecated, and has been replaced by the 'density' kwarg.\n",
      "  warnings.warn(\"The 'normed' kwarg is deprecated, and has been \"\n"
     ]
    },
    {
     "data": {
      "image/png": "[encoded data removed]",
      "text/plain": [
       "<Figure size 432x288 with 1 Axes>"
      ]
     },
     "metadata": {},
     "output_type": "display_data"
    }
   ],
   "source": [
    "#sns.distplot(x_train_scaled['Machine_speed'])\n",
    "\n",
    "from sklearn.preprocessing import Normalizer\n",
    "\n",
    "normal = Normalizer().fit(x_train)\n",
    "x_train_normalized = pd.DataFrame(normal.transform(x_train),index=x_train.index.values, columns=x_train.columns.values)\n",
    "df = pd.DataFrame(x_train_normalized['M12_STABILIZER_FLOW'])\n",
    "g = sns.distplot(df)\n",
    "for tick in g.get_xticklabels():\n",
    "    tick.set_rotation(60)"
   ]
  },
  {
   "cell_type": "markdown",
   "metadata": {},
   "source": [
    "#### Principal component analysis (PCA).\n",
    "#### Linear dimensionality reduction using Singular Value Decomposition of the data to project it to a lower dimensional space."
   ]
  },
  {
   "cell_type": "code",
   "execution_count": 10,
   "metadata": {},
   "outputs": [],
   "source": [
    "pca = PCA()\n",
    "pca.fit(x_train)\n",
    "cpts = pd.DataFrame(pca.transform(x_train))\n",
    "x_axis = np.arange(1, pca.n_components_+1)\n",
    "\n",
    "\n",
    "pca_scaled = PCA()\n",
    "pca_scaled.fit(x_train_scaled)\n",
    "cpts_scaled = pd.DataFrame(pca.transform(x_train_scaled))"
   ]
  },
  {
   "cell_type": "code",
   "execution_count": 11,
   "metadata": {},
   "outputs": [
    {
     "data": {
      "image/png": "[encoded data removed]",
      "text/plain": [
       "<Figure size 432x288 with 1 Axes>"
      ]
     },
     "metadata": {},
     "output_type": "display_data"
    },
    {
     "data": {
      "image/png": "[encoded data removed]",
      "text/plain": [
       "<Figure size 432x288 with 1 Axes>"
      ]
     },
     "metadata": {},
     "output_type": "display_data"
    },
    {
     "data": {
      "text/html": [
       "<div>\n",
       "<style scoped>\n",
       "    .dataframe tbody tr th:only-of-type {\n",
       "        vertical-align: middle;\n",
       "    }\n",
       "\n",
       "    .dataframe tbody tr th {\n",
       "        vertical-align: top;\n",
       "    }\n",
       "\n",
       "    .dataframe thead th {\n",
       "        text-align: right;\n",
       "    }\n",
       "</style>\n",
       "<table border=\"1\" class=\"dataframe\">\n",
       "  <thead>\n",
       "    <tr style=\"text-align: right;\">\n",
       "      <th></th>\n",
       "      <th>0</th>\n",
       "    </tr>\n",
       "  </thead>\n",
       "  <tbody>\n",
       "    <tr>\n",
       "      <th>0</th>\n",
       "      <td>M12_ENZYME_FLOW</td>\n",
       "    </tr>\n",
       "    <tr>\n",
       "      <th>1</th>\n",
       "      <td>M12_STABILIZER_FLOW</td>\n",
       "    </tr>\n",
       "    <tr>\n",
       "      <th>2</th>\n",
       "      <td>M12_TEMPERATURE</td>\n",
       "    </tr>\n",
       "    <tr>\n",
       "      <th>3</th>\n",
       "      <td>M12_WATER_NR</td>\n",
       "    </tr>\n",
       "    <tr>\n",
       "      <th>4</th>\n",
       "      <td>M12_WETTING_AGENT_FLOW</td>\n",
       "    </tr>\n",
       "    <tr>\n",
       "      <th>5</th>\n",
       "      <td>M18_TEMPERATURE</td>\n",
       "    </tr>\n",
       "    <tr>\n",
       "      <th>6</th>\n",
       "      <td>M19_RESERVE_NR</td>\n",
       "    </tr>\n",
       "    <tr>\n",
       "      <th>7</th>\n",
       "      <td>M19_STABILIZER_FLOW</td>\n",
       "    </tr>\n",
       "    <tr>\n",
       "      <th>8</th>\n",
       "      <td>M19_TEMPERATURE</td>\n",
       "    </tr>\n",
       "    <tr>\n",
       "      <th>9</th>\n",
       "      <td>M19_WETTING_AGENT_FLOW</td>\n",
       "    </tr>\n",
       "  </tbody>\n",
       "</table>\n",
       "</div>"
      ],
      "text/plain": [
       "                        0\n",
       "0         M12_ENZYME_FLOW\n",
       "1     M12_STABILIZER_FLOW\n",
       "2         M12_TEMPERATURE\n",
       "3            M12_WATER_NR\n",
       "4  M12_WETTING_AGENT_FLOW\n",
       "5         M18_TEMPERATURE\n",
       "6          M19_RESERVE_NR\n",
       "7     M19_STABILIZER_FLOW\n",
       "8         M19_TEMPERATURE\n",
       "9  M19_WETTING_AGENT_FLOW"
      ]
     },
     "execution_count": 11,
     "metadata": {},
     "output_type": "execute_result"
    }
   ],
   "source": [
    "plt.bar(x_axis,pca.explained_variance_ratio_)\n",
    "plt.xticks(x_axis,x_axis)\n",
    "plt.ylim(0,1)\n",
    "plt.title('Before Scaling')\n",
    "plt.show()\n",
    "\n",
    "plt.bar(x_axis,pca_scaled.explained_variance_ratio_)\n",
    "plt.xticks(x_axis,x_axis)\n",
    "plt.ylim(0,1)\n",
    "plt.title('After Scaling')\n",
    "plt.show()\n",
    "\n",
    "pd.DataFrame(x_train.columns)"
   ]
  },
  {
   "cell_type": "markdown",
   "metadata": {},
   "source": [
    "## REGRESSION BEFORE SCALING"
   ]
  },
  {
   "cell_type": "code",
   "execution_count": 12,
   "metadata": {},
   "outputs": [
    {
     "name": "stdout",
     "output_type": "stream",
     "text": [
      "Area under ROC Curve:  0.5\n",
      "     0  1\n",
      "0  760  0\n",
      "1  137  0\n",
      "                        coefficients\n",
      "M12_ENZYME_FLOW            -0.000277\n",
      "M12_STABILIZER_FLOW        -0.000219\n",
      "M12_TEMPERATURE            -0.000465\n",
      "M12_WATER_NR                0.000091\n",
      "M12_WETTING_AGENT_FLOW     -0.000308\n",
      "M18_TEMPERATURE            -0.001017\n",
      "M19_RESERVE_NR             -0.008348\n",
      "M19_STABILIZER_FLOW        -0.000194\n",
      "M19_TEMPERATURE            -0.000684\n",
      "M19_WETTING_AGENT_FLOW     -0.000171\n"
     ]
    },
    {
     "data": {
      "image/png": "[encoded data removed]",
      "text/plain": [
       "<Figure size 432x288 with 2 Axes>"
      ]
     },
     "metadata": {},
     "output_type": "display_data"
    }
   ],
   "source": [
    "logit = LogisticRegression()\n",
    "logit = logit.fit(x_train,y_train)\n",
    "pred = logit.predict(x_test)\n",
    "print('Area under ROC Curve: ',roc_auc_score(y_test,pred))\n",
    "cm = pd.DataFrame(confusion_matrix(y_test,pred))\n",
    "print(cm)\n",
    "sns.heatmap(cm,annot = True,cmap=\"YlGnBu\")\n",
    "print(pd.DataFrame(logit.coef_,columns = x.columns,index= ['coefficients']).T)\n",
    "\n",
    "fpr_unsc, tpr_unsc, _ = roc_curve(y_test,pred) "
   ]
  },
  {
   "cell_type": "markdown",
   "metadata": {},
   "source": [
    "## Regression after scaling"
   ]
  },
  {
   "cell_type": "code",
   "execution_count": 13,
   "metadata": {},
   "outputs": [
    {
     "name": "stdout",
     "output_type": "stream",
     "text": [
      "Area under ROC Curve:  0.9479494813676528\n",
      "                        coefficients\n",
      "M12_ENZYME_FLOW            -0.434914\n",
      "M12_STABILIZER_FLOW        -0.472789\n",
      "M12_TEMPERATURE             0.396448\n",
      "M12_WATER_NR                0.708247\n",
      "M12_WETTING_AGENT_FLOW     -0.861707\n",
      "M18_TEMPERATURE             0.310512\n",
      "M19_RESERVE_NR             -0.187095\n",
      "M19_STABILIZER_FLOW        -0.568750\n",
      "M19_TEMPERATURE            -0.976454\n",
      "M19_WETTING_AGENT_FLOW     -0.741967\n",
      "<class 'numpy.ndarray'>\n"
     ]
    },
    {
     "data": {
      "image/png": "[encoded data removed]",
      "text/plain": [
       "<Figure size 432x288 with 2 Axes>"
      ]
     },
     "metadata": {},
     "output_type": "display_data"
    }
   ],
   "source": [
    "logit = LogisticRegression()\n",
    "logit = logit.fit(x_train_scaled,y_train)\n",
    "pd.DataFrame(logit.coef_,columns = x.columns).T\n",
    "pred = logit.predict(x_test_scaled)\n",
    "print('Area under ROC Curve: ',roc_auc_score(y_test,pred))\n",
    "cm = pd.DataFrame(confusion_matrix(y_test,pred))\n",
    "\n",
    "sns.heatmap(cm,annot = True,cmap=\"YlGnBu\")\n",
    "\n",
    "coeff = pd.DataFrame(logit.coef_,columns = x.columns,index= ['coefficients']).T\n",
    "print(coeff)\n",
    "print(type(logit.coef_))\n",
    "fpr_sc, tpr_sc, _ = roc_curve(y_test,pred) "
   ]
  },
  {
   "cell_type": "code",
   "execution_count": 14,
   "metadata": {},
   "outputs": [],
   "source": [
    "from scipy.stats import norm\n",
    "\n",
    "def logit_pvalue(model, x):\n",
    "    \n",
    "    \"\"\" Calculate z-scores for scikit-learn LogisticRegression.\n",
    "    parameters:\n",
    "        model: fitted sklearn.linear_model.LogisticRegression with intercept and large C\n",
    "        x:     matrix on which the model was fit\n",
    "    This function uses asymtptics for maximum likelihood estimates.\n",
    "    \"\"\"\n",
    "    \n",
    "    p = model.predict_proba(x)\n",
    "    n = len(p)\n",
    "    m = len(model.coef_[0]) + 1\n",
    "    coefs = np.concatenate([model.intercept_, model.coef_[0]])\n",
    "    x_full = np.matrix(np.insert(np.array(x), 0, 1, axis = 1))\n",
    "    ans = np.zeros((m, m))\n",
    "    \n",
    "    for i in range(n):\n",
    "        ans = ans + np.dot(np.transpose(x_full[i, :]), x_full[i, :]) * p[i,1] * p[i, 0]\n",
    "        \n",
    "    vcov = np.linalg.inv(np.matrix(ans))\n",
    "    se = np.sqrt(np.diag(vcov))\n",
    "    \n",
    "    t =  coefs/se  \n",
    "    \n",
    "    p = (1 - norm.cdf(abs(t))) * 2\n",
    "    \n",
    "    r = []\n",
    "    for i in range(1,len(coefs)):\n",
    "        r.append([x.columns[i-1],abs(t[i]/p[i])])\n",
    "    r = sorted(r,key= lambda x:x[1])\n",
    "    print(pd.DataFrame(r,columns = ['col','importance']))\n",
    "    return pd.DataFrame([coefs,se,t,p],columns = ['const']+list(x.columns),index = ['coefs','std err','z','p']).T"
   ]
  },
  {
   "cell_type": "code",
   "execution_count": 15,
   "metadata": {},
   "outputs": [
    {
     "name": "stdout",
     "output_type": "stream",
     "text": [
      "                      col  importance\n",
      "0          M19_RESERVE_NR    0.479673\n",
      "1         M18_TEMPERATURE    0.711024\n",
      "2         M12_TEMPERATURE    1.155114\n",
      "3         M12_ENZYME_FLOW    1.227047\n",
      "4     M12_STABILIZER_FLOW    1.642609\n",
      "5            M12_WATER_NR    4.894026\n",
      "6         M19_TEMPERATURE   20.814853\n",
      "7     M19_STABILIZER_FLOW  126.107941\n",
      "8  M12_WETTING_AGENT_FLOW  126.818248\n",
      "9  M19_WETTING_AGENT_FLOW  172.292000\n"
     ]
    },
    {
     "data": {
      "text/html": [
       "<div>\n",
       "<style scoped>\n",
       "    .dataframe tbody tr th:only-of-type {\n",
       "        vertical-align: middle;\n",
       "    }\n",
       "\n",
       "    .dataframe tbody tr th {\n",
       "        vertical-align: top;\n",
       "    }\n",
       "\n",
       "    .dataframe thead th {\n",
       "        text-align: right;\n",
       "    }\n",
       "</style>\n",
       "<table border=\"1\" class=\"dataframe\">\n",
       "  <thead>\n",
       "    <tr style=\"text-align: right;\">\n",
       "      <th></th>\n",
       "      <th>coefs</th>\n",
       "      <th>std err</th>\n",
       "      <th>z</th>\n",
       "      <th>p</th>\n",
       "    </tr>\n",
       "  </thead>\n",
       "  <tbody>\n",
       "    <tr>\n",
       "      <th>const</th>\n",
       "      <td>-3.033456</td>\n",
       "      <td>0.187496</td>\n",
       "      <td>-16.178790</td>\n",
       "      <td>0.000000</td>\n",
       "    </tr>\n",
       "    <tr>\n",
       "      <th>M12_ENZYME_FLOW</th>\n",
       "      <td>-0.434914</td>\n",
       "      <td>0.679123</td>\n",
       "      <td>-0.640406</td>\n",
       "      <td>0.521908</td>\n",
       "    </tr>\n",
       "    <tr>\n",
       "      <th>M12_STABILIZER_FLOW</th>\n",
       "      <td>-0.472789</td>\n",
       "      <td>0.632708</td>\n",
       "      <td>-0.747247</td>\n",
       "      <td>0.454915</td>\n",
       "    </tr>\n",
       "    <tr>\n",
       "      <th>M12_TEMPERATURE</th>\n",
       "      <td>0.396448</td>\n",
       "      <td>0.640439</td>\n",
       "      <td>0.619025</td>\n",
       "      <td>0.535900</td>\n",
       "    </tr>\n",
       "    <tr>\n",
       "      <th>M12_WATER_NR</th>\n",
       "      <td>0.708247</td>\n",
       "      <td>0.602843</td>\n",
       "      <td>1.174845</td>\n",
       "      <td>0.240057</td>\n",
       "    </tr>\n",
       "    <tr>\n",
       "      <th>M12_WETTING_AGENT_FLOW</th>\n",
       "      <td>-0.861707</td>\n",
       "      <td>0.366032</td>\n",
       "      <td>-2.354184</td>\n",
       "      <td>0.018563</td>\n",
       "    </tr>\n",
       "    <tr>\n",
       "      <th>M18_TEMPERATURE</th>\n",
       "      <td>0.310512</td>\n",
       "      <td>0.676020</td>\n",
       "      <td>0.459323</td>\n",
       "      <td>0.646002</td>\n",
       "    </tr>\n",
       "    <tr>\n",
       "      <th>M19_RESERVE_NR</th>\n",
       "      <td>-0.187095</td>\n",
       "      <td>0.536355</td>\n",
       "      <td>-0.348828</td>\n",
       "      <td>0.727219</td>\n",
       "    </tr>\n",
       "    <tr>\n",
       "      <th>M19_STABILIZER_FLOW</th>\n",
       "      <td>-0.568750</td>\n",
       "      <td>0.241776</td>\n",
       "      <td>-2.352380</td>\n",
       "      <td>0.018654</td>\n",
       "    </tr>\n",
       "    <tr>\n",
       "      <th>M19_TEMPERATURE</th>\n",
       "      <td>-0.976454</td>\n",
       "      <td>0.563681</td>\n",
       "      <td>-1.732282</td>\n",
       "      <td>0.083223</td>\n",
       "    </tr>\n",
       "    <tr>\n",
       "      <th>M19_WETTING_AGENT_FLOW</th>\n",
       "      <td>-0.741967</td>\n",
       "      <td>0.302665</td>\n",
       "      <td>-2.451444</td>\n",
       "      <td>0.014228</td>\n",
       "    </tr>\n",
       "  </tbody>\n",
       "</table>\n",
       "</div>"
      ],
      "text/plain": [
       "                           coefs   std err          z         p\n",
       "const                  -3.033456  0.187496 -16.178790  0.000000\n",
       "M12_ENZYME_FLOW        -0.434914  0.679123  -0.640406  0.521908\n",
       "M12_STABILIZER_FLOW    -0.472789  0.632708  -0.747247  0.454915\n",
       "M12_TEMPERATURE         0.396448  0.640439   0.619025  0.535900\n",
       "M12_WATER_NR            0.708247  0.602843   1.174845  0.240057\n",
       "M12_WETTING_AGENT_FLOW -0.861707  0.366032  -2.354184  0.018563\n",
       "M18_TEMPERATURE         0.310512  0.676020   0.459323  0.646002\n",
       "M19_RESERVE_NR         -0.187095  0.536355  -0.348828  0.727219\n",
       "M19_STABILIZER_FLOW    -0.568750  0.241776  -2.352380  0.018654\n",
       "M19_TEMPERATURE        -0.976454  0.563681  -1.732282  0.083223\n",
       "M19_WETTING_AGENT_FLOW -0.741967  0.302665  -2.451444  0.014228"
      ]
     },
     "execution_count": 15,
     "metadata": {},
     "output_type": "execute_result"
    }
   ],
   "source": [
    "logit_pvalue(logit, x_train_scaled)"
   ]
  },
  {
   "cell_type": "code",
   "execution_count": 16,
   "metadata": {},
   "outputs": [
    {
     "name": "stdout",
     "output_type": "stream",
     "text": [
      "             precision    recall  f1-score   support\n",
      "\n",
      "          0       0.98      0.99      0.99       760\n",
      "          1       0.95      0.91      0.93       137\n",
      "\n",
      "avg / total       0.98      0.98      0.98       897\n",
      "\n"
     ]
    }
   ],
   "source": [
    "from sklearn.metrics import classification_report\n",
    "print(classification_report(y_test,pred))"
   ]
  },
  {
   "cell_type": "code",
   "execution_count": 17,
   "metadata": {},
   "outputs": [
    {
     "data": {
      "text/html": [
       "<table class=\"simpletable\">\n",
       "<caption>Logit Regression Results</caption>\n",
       "<tr>\n",
       "  <th>Dep. Variable:</th>   <td>Machine_state</td>  <th>  No. Observations:  </th>   <td>  2091</td>  \n",
       "</tr>\n",
       "<tr>\n",
       "  <th>Model:</th>               <td>Logit</td>      <th>  Df Residuals:      </th>   <td>  2080</td>  \n",
       "</tr>\n",
       "<tr>\n",
       "  <th>Method:</th>               <td>MLE</td>       <th>  Df Model:          </th>   <td>    10</td>  \n",
       "</tr>\n",
       "<tr>\n",
       "  <th>Date:</th>          <td>Wed, 04 Jul 2018</td> <th>  Pseudo R-squ.:     </th>   <td>0.7989</td>  \n",
       "</tr>\n",
       "<tr>\n",
       "  <th>Time:</th>              <td>19:36:15</td>     <th>  Log-Likelihood:    </th>  <td> -173.27</td> \n",
       "</tr>\n",
       "<tr>\n",
       "  <th>converged:</th>           <td>True</td>       <th>  LL-Null:           </th>  <td> -861.64</td> \n",
       "</tr>\n",
       "<tr>\n",
       "  <th> </th>                      <td> </td>        <th>  LLR p-value:       </th> <td>1.042e-289</td>\n",
       "</tr>\n",
       "</table>\n",
       "<table class=\"simpletable\">\n",
       "<tr>\n",
       "             <td></td>               <th>coef</th>     <th>std err</th>      <th>z</th>      <th>P>|z|</th>  <th>[0.025</th>    <th>0.975]</th>  \n",
       "</tr>\n",
       "<tr>\n",
       "  <th>const</th>                  <td>   -3.1872</td> <td>    0.193</td> <td>  -16.478</td> <td> 0.000</td> <td>   -3.566</td> <td>   -2.808</td>\n",
       "</tr>\n",
       "<tr>\n",
       "  <th>M12_ENZYME_FLOW</th>        <td>   -0.2604</td> <td>    0.706</td> <td>   -0.369</td> <td> 0.712</td> <td>   -1.645</td> <td>    1.124</td>\n",
       "</tr>\n",
       "<tr>\n",
       "  <th>M12_STABILIZER_FLOW</th>    <td>   -0.6240</td> <td>    0.665</td> <td>   -0.938</td> <td> 0.348</td> <td>   -1.928</td> <td>    0.680</td>\n",
       "</tr>\n",
       "<tr>\n",
       "  <th>M12_TEMPERATURE</th>        <td>    0.5310</td> <td>    0.613</td> <td>    0.866</td> <td> 0.387</td> <td>   -0.671</td> <td>    1.733</td>\n",
       "</tr>\n",
       "<tr>\n",
       "  <th>M12_WATER_NR</th>           <td>    0.8645</td> <td>    0.633</td> <td>    1.367</td> <td> 0.172</td> <td>   -0.375</td> <td>    2.104</td>\n",
       "</tr>\n",
       "<tr>\n",
       "  <th>M12_WETTING_AGENT_FLOW</th> <td>   -0.9132</td> <td>    0.370</td> <td>   -2.468</td> <td> 0.014</td> <td>   -1.639</td> <td>   -0.188</td>\n",
       "</tr>\n",
       "<tr>\n",
       "  <th>M18_TEMPERATURE</th>        <td>    0.5501</td> <td>    0.662</td> <td>    0.831</td> <td> 0.406</td> <td>   -0.748</td> <td>    1.848</td>\n",
       "</tr>\n",
       "<tr>\n",
       "  <th>M19_RESERVE_NR</th>         <td>   -0.2770</td> <td>    0.559</td> <td>   -0.495</td> <td> 0.620</td> <td>   -1.373</td> <td>    0.819</td>\n",
       "</tr>\n",
       "<tr>\n",
       "  <th>M19_STABILIZER_FLOW</th>    <td>   -0.5790</td> <td>    0.248</td> <td>   -2.336</td> <td> 0.020</td> <td>   -1.065</td> <td>   -0.093</td>\n",
       "</tr>\n",
       "<tr>\n",
       "  <th>M19_TEMPERATURE</th>        <td>   -1.2454</td> <td>    0.559</td> <td>   -2.228</td> <td> 0.026</td> <td>   -2.341</td> <td>   -0.150</td>\n",
       "</tr>\n",
       "<tr>\n",
       "  <th>M19_WETTING_AGENT_FLOW</th> <td>   -0.7398</td> <td>    0.312</td> <td>   -2.373</td> <td> 0.018</td> <td>   -1.351</td> <td>   -0.129</td>\n",
       "</tr>\n",
       "</table>"
      ],
      "text/plain": [
       "<class 'statsmodels.iolib.summary.Summary'>\n",
       "\"\"\"\n",
       "                           Logit Regression Results                           \n",
       "==============================================================================\n",
       "Dep. Variable:          Machine_state   No. Observations:                 2091\n",
       "Model:                          Logit   Df Residuals:                     2080\n",
       "Method:                           MLE   Df Model:                           10\n",
       "Date:                Wed, 04 Jul 2018   Pseudo R-squ.:                  0.7989\n",
       "Time:                        19:36:15   Log-Likelihood:                -173.27\n",
       "converged:                       True   LL-Null:                       -861.64\n",
       "                                        LLR p-value:                1.042e-289\n",
       "==========================================================================================\n",
       "                             coef    std err          z      P>|z|      [0.025      0.975]\n",
       "------------------------------------------------------------------------------------------\n",
       "const                     -3.1872      0.193    -16.478      0.000      -3.566      -2.808\n",
       "M12_ENZYME_FLOW           -0.2604      0.706     -0.369      0.712      -1.645       1.124\n",
       "M12_STABILIZER_FLOW       -0.6240      0.665     -0.938      0.348      -1.928       0.680\n",
       "M12_TEMPERATURE            0.5310      0.613      0.866      0.387      -0.671       1.733\n",
       "M12_WATER_NR               0.8645      0.633      1.367      0.172      -0.375       2.104\n",
       "M12_WETTING_AGENT_FLOW    -0.9132      0.370     -2.468      0.014      -1.639      -0.188\n",
       "M18_TEMPERATURE            0.5501      0.662      0.831      0.406      -0.748       1.848\n",
       "M19_RESERVE_NR            -0.2770      0.559     -0.495      0.620      -1.373       0.819\n",
       "M19_STABILIZER_FLOW       -0.5790      0.248     -2.336      0.020      -1.065      -0.093\n",
       "M19_TEMPERATURE           -1.2454      0.559     -2.228      0.026      -2.341      -0.150\n",
       "M19_WETTING_AGENT_FLOW    -0.7398      0.312     -2.373      0.018      -1.351      -0.129\n",
       "==========================================================================================\n",
       "\"\"\""
      ]
     },
     "execution_count": 17,
     "metadata": {},
     "output_type": "execute_result"
    }
   ],
   "source": [
    "# compare with statsmodels\n",
    "import statsmodels.api as sm\n",
    "sm_model = sm.Logit(y_train, sm.add_constant(x_train_scaled)).fit(disp=0)\n",
    "#print(sm_model.pvalues)\n",
    "sm_model.summary()\n",
    "#print('Area under ROC Curve: ',roc_auc_score(y_test,sm_model.predict(x_test_scaled)))\n",
    "#logit_pvalue(logit, x_train_scaled)"
   ]
  },
  {
   "cell_type": "code",
   "execution_count": 18,
   "metadata": {},
   "outputs": [
    {
     "name": "stdout",
     "output_type": "stream",
     "text": [
      "<class 'pandas.core.series.Series'>\n",
      "369.5526927127758\n",
      "10\n",
      "Machine_state   -173.776346\n",
      "dtype: float64\n",
      "1730.8121978770005\n",
      "-2182.081090054101\n",
      "-26306.832283579395\n",
      "-27316.592377922112\n",
      "-36494.4773330767\n",
      "-38793.020255681135\n",
      "-41139.63010054278\n",
      "-41214.32948319181\n"
     ]
    }
   ],
   "source": [
    "def log_likelihood(features, target, weights,inter):\n",
    "    scores = np.dot(weights,features).T\n",
    "    scores += inter\n",
    "    ll = np.sum( target*scores - np.log(1 + np.exp(scores)))\n",
    "    print(type(ll))\n",
    "    return ll\n",
    "ll = log_likelihood(x_train_scaled.T, pd.DataFrame(y_train), logit.coef_,logit.intercept_)\n",
    "print(2*(len(coeff)  + 1 - float(ll)))\n",
    "print(len(coeff))\n",
    "print(ll)\n",
    "\n",
    "from sklearn.mixture import GaussianMixture\n",
    "for i in range(2,10):\n",
    "    model = GaussianMixture(n_components=i, init_params='kmeans')\n",
    "    model.fit(x_train_scaled)\n",
    "    print(model.aic(x_train_scaled))"
   ]
  },
  {
   "cell_type": "code",
   "execution_count": 19,
   "metadata": {},
   "outputs": [
    {
     "data": {
      "text/plain": [
       "array([-8.48787246e+00, -6.57254059e+00, -2.61027872e+02, -4.61232461e+06,\n",
       "       -7.33023567e+00, -4.52408987e+02, -5.11061282e+04, -4.56274289e+00,\n",
       "       -2.68054010e+02, -6.02085063e+00])"
      ]
     },
     "execution_count": 19,
     "metadata": {},
     "output_type": "execute_result"
    }
   ],
   "source": [
    "np.dot((y_test-logit.predict_proba(x_test_scaled)[:,1]),x_test)"
   ]
  },
  {
   "cell_type": "code",
   "execution_count": 20,
   "metadata": {},
   "outputs": [
    {
     "name": "stdout",
     "output_type": "stream",
     "text": [
      "const                     5.322086e-61\n",
      "M12_ENZYME_FLOW           7.123968e-01\n",
      "M12_STABILIZER_FLOW       3.483241e-01\n",
      "M12_TEMPERATURE           3.866893e-01\n",
      "M12_WATER_NR              1.717776e-01\n",
      "M12_WETTING_AGENT_FLOW    1.359173e-02\n",
      "M18_TEMPERATURE           4.060488e-01\n",
      "M19_RESERVE_NR            6.203680e-01\n",
      "M19_STABILIZER_FLOW       1.951322e-02\n",
      "M19_TEMPERATURE           2.590320e-02\n",
      "M19_WETTING_AGENT_FLOW    1.762935e-02\n",
      "dtype: float64\n"
     ]
    }
   ],
   "source": [
    "import numpy as np\n",
    "# test p-values\n",
    "#x = np.arange(10)[:, np.newaxis]\n",
    "#y = np.array([0,0,0,1,0,0,1,1,1,1])\n",
    "\n",
    "# compare with statsmodels\n",
    "import statsmodels.api as sm\n",
    "sm_model = sm.Logit(y_train, sm.add_constant(x_train_scaled)).fit(disp=0)\n",
    "print(sm_model.pvalues)\n",
    "sm_model.summary()\n",
    "\n",
    "\n",
    "#log likelihood\n",
    "def f(t):\n",
    "    return 1/(1+np.exp(-t))\n",
    "\n",
    "coeff_dict = dict(coeff['coefficients'])\n",
    "def llikelihood(model,x,y):\n",
    "    \n",
    "    \n",
    "    coeff = pd.DataFrame(logit.coef_,columns = x.columns,index= ['coefficients']).T\n",
    "    df = pd.DataFrame()\n",
    "    count = 0\n",
    "    for i in coeff.index:\n",
    "        if count == 0:\n",
    "            df = pd.DataFrame(x_test_scaled[i].multiply(coeff_dict[i])).T.set_index([['0']]).T\n",
    "        else:\n",
    "            df.add(pd.DataFrame(x_test_scaled[i].multiply(coeff_dict[i])))\n",
    "        count+=1\n",
    "    df.add(float(logit.intercept_));\n",
    "    df"
   ]
  },
  {
   "cell_type": "markdown",
   "metadata": {},
   "source": [
    "## Visualisation of logistic regression"
   ]
  },
  {
   "cell_type": "markdown",
   "metadata": {},
   "source": [
    "for making a plot for regression i need to do multiplication of coefficients with the respective columns and then addition of these columns to make 1 column and then plot the probability according to these.\n",
    "\n",
    "#### For displaying logistic regression with 1 variable\n",
    "* ax = sns.regplot( x = 'M12_WETTING_AGENT_FLOW', y = 'Machine_state', data=pd.concat([pd.DataFrame(y_train),x_train],axis = 1),logistic=True, n_boot=500, y_jitter=.03)"
   ]
  },
  {
   "cell_type": "code",
   "execution_count": 21,
   "metadata": {},
   "outputs": [
    {
     "data": {
      "text/plain": [
       "14.819457783902472"
      ]
     },
     "execution_count": 21,
     "metadata": {},
     "output_type": "execute_result"
    }
   ],
   "source": [
    "coeff_dict = dict(coeff['coefficients'])\n",
    "\n",
    "df = pd.DataFrame()\n",
    "count = 0\n",
    "for i in coeff.index:\n",
    "    if count == 0:\n",
    "        df = pd.DataFrame(x_test_scaled[i].multiply(coeff_dict[i])).T.set_index([['0']]).T\n",
    "    else:\n",
    "        df.add(pd.DataFrame(x_test_scaled[i].multiply(coeff_dict[i])))\n",
    "    count+=1\n",
    "df.add(float(logit.intercept_));\n",
    "np.sum(np.array(df))"
   ]
  },
  {
   "cell_type": "code",
   "execution_count": 22,
   "metadata": {},
   "outputs": [
    {
     "data": {
      "text/plain": [
       "[<matplotlib.lines.Line2D at 0xebc5e30>]"
      ]
     },
     "execution_count": 22,
     "metadata": {},
     "output_type": "execute_result"
    },
    {
     "data": {
      "image/png": "[encoded data removed]",
      "text/plain": [
       "<Figure size 432x288 with 1 Axes>"
      ]
     },
     "metadata": {},
     "output_type": "display_data"
    }
   ],
   "source": [
    "prob = df['0']\n",
    "#prob = pd.DataFrame(logit.predict_proba(x_test_scaled))\n",
    "fff = pd.DataFrame(logit.predict(x_test_scaled))\n",
    "mini = float(df.min())\n",
    "maxi = float(df.max())\n",
    "mid = (mini + maxi)/2\n",
    "\n",
    "def f(t):\n",
    "    return 1/(1+np.exp(-10*(t - mid)))\n",
    "\n",
    "\n",
    "\n",
    "plt.figure()\n",
    "plt.plot(prob,fff,'ro')\n",
    "#plt.plot([mid, mid], [0, 1], 'k--')\n",
    "#plt.plot([mini, maxi],[0.5,0.5], 'k--')\n",
    "ax = np.arange(mini,maxi,0.001)\n",
    "axx = list(map(f,ax))\n",
    "plt.plot(ax,axx)"
   ]
  },
  {
   "cell_type": "code",
   "execution_count": 23,
   "metadata": {},
   "outputs": [
    {
     "data": {
      "image/png": "[encoded data removed]",
      "text/plain": [
       "<Figure size 432x288 with 1 Axes>"
      ]
     },
     "metadata": {},
     "output_type": "display_data"
    }
   ],
   "source": [
    "plt.plot([0, 1], [0, 1], 'k--')\n",
    "plt.plot(fpr_unsc, tpr_unsc, label='unscaled')\n",
    "plt.plot(fpr_sc, tpr_sc, label='scaled')\n",
    "plt.xlabel('False positive rate')\n",
    "plt.ylabel('True positive rate')\n",
    "plt.title('ROC curve')\n",
    "plt.legend(loc='best')\n",
    "plt.show()"
   ]
  },
  {
   "cell_type": "markdown",
   "metadata": {},
   "source": [
    "# Random Forest"
   ]
  },
  {
   "cell_type": "code",
   "execution_count": 24,
   "metadata": {},
   "outputs": [
    {
     "data": {
      "text/plain": [
       "RandomForestRegressor(bootstrap=True, criterion='mse', max_depth=None,\n",
       "           max_features='auto', max_leaf_nodes=None,\n",
       "           min_impurity_decrease=0.0, min_impurity_split=None,\n",
       "           min_samples_leaf=1, min_samples_split=2,\n",
       "           min_weight_fraction_leaf=0.0, n_estimators=1000, n_jobs=1,\n",
       "           oob_score=False, random_state=42, verbose=0, warm_start=False)"
      ]
     },
     "execution_count": 24,
     "metadata": {},
     "output_type": "execute_result"
    }
   ],
   "source": [
    "from sklearn.ensemble import RandomForestRegressor\n",
    "rf = RandomForestRegressor(n_estimators= 1000, random_state=42)\n",
    "rf.fit(x_train, y_train)"
   ]
  },
  {
   "cell_type": "markdown",
   "metadata": {},
   "source": [
    "#### creating models with different hyperparameters to try and boost performance"
   ]
  },
  {
   "cell_type": "code",
   "execution_count": 25,
   "metadata": {},
   "outputs": [
    {
     "ename": "ValueError",
     "evalue": "Classification metrics can't handle a mix of binary and continuous targets",
     "output_type": "error",
     "traceback": [
      "\u001b[1;31m---------------------------------------------------------------------------\u001b[0m",
      "\u001b[1;31mValueError\u001b[0m                                Traceback (most recent call last)",
      "\u001b[1;32m<ipython-input-25-b4ee54e786d7>\u001b[0m in \u001b[0;36m<module>\u001b[1;34m()\u001b[0m\n\u001b[0;32m      1\u001b[0m \u001b[0mpredict\u001b[0m \u001b[1;33m=\u001b[0m \u001b[0mrf\u001b[0m\u001b[1;33m.\u001b[0m\u001b[0mpredict\u001b[0m\u001b[1;33m(\u001b[0m\u001b[0mx_test\u001b[0m\u001b[1;33m)\u001b[0m\u001b[1;33m\u001b[0m\u001b[0m\n\u001b[1;32m----> 2\u001b[1;33m \u001b[0mconfusion_matrix\u001b[0m\u001b[1;33m(\u001b[0m\u001b[0my_test\u001b[0m\u001b[1;33m,\u001b[0m\u001b[0mpredict\u001b[0m\u001b[1;33m)\u001b[0m\u001b[1;33m\u001b[0m\u001b[0m\n\u001b[0m\u001b[0;32m      3\u001b[0m \u001b[0mprint\u001b[0m\u001b[1;33m(\u001b[0m\u001b[1;34m'Area under ROC Curve: '\u001b[0m\u001b[1;33m,\u001b[0m\u001b[0mroc_auc_score\u001b[0m\u001b[1;33m(\u001b[0m\u001b[0my_test\u001b[0m\u001b[1;33m,\u001b[0m\u001b[0mpred\u001b[0m\u001b[1;33m)\u001b[0m\u001b[1;33m)\u001b[0m\u001b[1;33m\u001b[0m\u001b[0m\n\u001b[0;32m      4\u001b[0m \u001b[0msns\u001b[0m\u001b[1;33m.\u001b[0m\u001b[0mheatmap\u001b[0m\u001b[1;33m(\u001b[0m\u001b[0mcm\u001b[0m\u001b[1;33m,\u001b[0m\u001b[0mannot\u001b[0m \u001b[1;33m=\u001b[0m \u001b[1;32mTrue\u001b[0m\u001b[1;33m,\u001b[0m\u001b[0mcmap\u001b[0m\u001b[1;33m=\u001b[0m\u001b[1;34m\"YlGnBu\"\u001b[0m\u001b[1;33m)\u001b[0m\u001b[1;33m\u001b[0m\u001b[0m\n",
      "\u001b[1;32mc:\\users\\aish.gupta\\appdata\\local\\programs\\python\\python36-32\\lib\\site-packages\\sklearn\\metrics\\classification.py\u001b[0m in \u001b[0;36mconfusion_matrix\u001b[1;34m(y_true, y_pred, labels, sample_weight)\u001b[0m\n\u001b[0;32m    248\u001b[0m \u001b[1;33m\u001b[0m\u001b[0m\n\u001b[0;32m    249\u001b[0m     \"\"\"\n\u001b[1;32m--> 250\u001b[1;33m     \u001b[0my_type\u001b[0m\u001b[1;33m,\u001b[0m \u001b[0my_true\u001b[0m\u001b[1;33m,\u001b[0m \u001b[0my_pred\u001b[0m \u001b[1;33m=\u001b[0m \u001b[0m_check_targets\u001b[0m\u001b[1;33m(\u001b[0m\u001b[0my_true\u001b[0m\u001b[1;33m,\u001b[0m \u001b[0my_pred\u001b[0m\u001b[1;33m)\u001b[0m\u001b[1;33m\u001b[0m\u001b[0m\n\u001b[0m\u001b[0;32m    251\u001b[0m     \u001b[1;32mif\u001b[0m \u001b[0my_type\u001b[0m \u001b[1;32mnot\u001b[0m \u001b[1;32min\u001b[0m \u001b[1;33m(\u001b[0m\u001b[1;34m\"binary\"\u001b[0m\u001b[1;33m,\u001b[0m \u001b[1;34m\"multiclass\"\u001b[0m\u001b[1;33m)\u001b[0m\u001b[1;33m:\u001b[0m\u001b[1;33m\u001b[0m\u001b[0m\n\u001b[0;32m    252\u001b[0m         \u001b[1;32mraise\u001b[0m \u001b[0mValueError\u001b[0m\u001b[1;33m(\u001b[0m\u001b[1;34m\"%s is not supported\"\u001b[0m \u001b[1;33m%\u001b[0m \u001b[0my_type\u001b[0m\u001b[1;33m)\u001b[0m\u001b[1;33m\u001b[0m\u001b[0m\n",
      "\u001b[1;32mc:\\users\\aish.gupta\\appdata\\local\\programs\\python\\python36-32\\lib\\site-packages\\sklearn\\metrics\\classification.py\u001b[0m in \u001b[0;36m_check_targets\u001b[1;34m(y_true, y_pred)\u001b[0m\n\u001b[0;32m     79\u001b[0m     \u001b[1;32mif\u001b[0m \u001b[0mlen\u001b[0m\u001b[1;33m(\u001b[0m\u001b[0my_type\u001b[0m\u001b[1;33m)\u001b[0m \u001b[1;33m>\u001b[0m \u001b[1;36m1\u001b[0m\u001b[1;33m:\u001b[0m\u001b[1;33m\u001b[0m\u001b[0m\n\u001b[0;32m     80\u001b[0m         raise ValueError(\"Classification metrics can't handle a mix of {0} \"\n\u001b[1;32m---> 81\u001b[1;33m                          \"and {1} targets\".format(type_true, type_pred))\n\u001b[0m\u001b[0;32m     82\u001b[0m \u001b[1;33m\u001b[0m\u001b[0m\n\u001b[0;32m     83\u001b[0m     \u001b[1;31m# We can't have more than one value on y_type => The set is no more needed\u001b[0m\u001b[1;33m\u001b[0m\u001b[1;33m\u001b[0m\u001b[0m\n",
      "\u001b[1;31mValueError\u001b[0m: Classification metrics can't handle a mix of binary and continuous targets"
     ]
    }
   ],
   "source": [
    "predict = rf.predict(x_test)\n",
    "confusion_matrix(y_test,predict)\n",
    "print('Area under ROC Curve: ',roc_auc_score(y_test,pred))\n",
    "sns.heatmap(cm,annot = True,cmap=\"YlGnBu\")"
   ]
  },
  {
   "cell_type": "markdown",
   "metadata": {},
   "source": [
    "#### So the above tree is compelety useless for this data"
   ]
  },
  {
   "cell_type": "code",
   "execution_count": null,
   "metadata": {},
   "outputs": [],
   "source": [
    "from sklearn.tree import export_graphviz\n",
    "import graphviz\n",
    "dot_data = export_graphviz(rf, out_file=None, feature_names=x.columns,class_names=['Machine_state'],filled=True, rounded=True,  special_characters=True) \n",
    "graph = graphviz.Source(dot_data)  \n",
    "graph "
   ]
  },
  {
   "cell_type": "code",
   "execution_count": null,
   "metadata": {},
   "outputs": [],
   "source": [
    "# Import tools needed for visualization\n",
    "from sklearn.tree import export_graphviz\n",
    "import pydotplus\n",
    "\n",
    "# Pull out one tree from the forest\n",
    "tree = rf.estimators_[5]\n",
    "\n",
    "# Export the image to a dot file\n",
    "export_graphviz(tree, out_file = 'tree1.dot', feature_names = x_test.columns, rounded = True, precision = 1)\n",
    "\n"
   ]
  },
  {
   "cell_type": "code",
   "execution_count": 26,
   "metadata": {},
   "outputs": [
    {
     "name": "stderr",
     "output_type": "stream",
     "text": [
      "c:\\users\\aish.gupta\\appdata\\local\\programs\\python\\python36-32\\lib\\site-packages\\ipykernel_launcher.py:40: FutureWarning: 'argmin' is deprecated, use 'idxmin' instead. The behavior of 'argmin'\n",
      "will be corrected to return the positional minimum in the future.\n",
      "Use 'series.values.argmin' to get the position of the minimum now.\n",
      "c:\\users\\aish.gupta\\appdata\\local\\programs\\python\\python36-32\\lib\\site-packages\\ipykernel_launcher.py:53: FutureWarning: 'argmax' is deprecated, use 'idxmax' instead. The behavior of 'argmax'\n",
      "will be corrected to return the positional maximum in the future.\n",
      "Use 'series.values.argmax' to get the position of the maximum now.\n"
     ]
    },
    {
     "name": "stdout",
     "output_type": "stream",
     "text": [
      "Add  M12_STABILIZER_FLOW            with p-value 0.0\n",
      "Add  M12_ENZYME_FLOW                with p-value 2.76391e-125\n",
      "Drop M12_STABILIZER_FLOW            with p-value 0.183934\n",
      "Add  M19_WETTING_AGENT_FLOW         with p-value 8.54831e-13\n",
      "Add  M12_WETTING_AGENT_FLOW         with p-value 0.000484727\n",
      "Add  M19_STABILIZER_FLOW            with p-value 0.00025438\n",
      "Add  M12_WATER_NR                   with p-value 8.86469e-05\n",
      "resulting features:\n",
      "['M12_ENZYME_FLOW', 'M19_WETTING_AGENT_FLOW', 'M12_WETTING_AGENT_FLOW', 'M19_STABILIZER_FLOW', 'M12_WATER_NR']\n"
     ]
    }
   ],
   "source": [
    "\n",
    "import pandas as pd\n",
    "import numpy as np\n",
    "import statsmodels.api as sm\n",
    "\n",
    "\"\"\"data = load_boston()\n",
    "X = pd.DataFrame(data.data, columns=data.feature_names)\n",
    "y = data.target\"\"\"\n",
    "\n",
    "\n",
    "def stepwise_selection(X, y, \n",
    "                       initial_list=[], \n",
    "                       threshold_in=0.01, \n",
    "                       threshold_out = 0.05, \n",
    "                       verbose=True):\n",
    "    \"\"\" Perform a forward-backward feature selection \n",
    "    based on p-value from statsmodels.api.OLS\n",
    "    Arguments:\n",
    "        X - pandas.DataFrame with candidate features\n",
    "        y - list-like with the target\n",
    "        initial_list - list of features to start with (column names of X)\n",
    "        threshold_in - include a feature if its p-value < threshold_in\n",
    "        threshold_out - exclude a feature if its p-value > threshold_out\n",
    "        verbose - whether to print the sequence of inclusions and exclusions\n",
    "    Returns: list of selected features \n",
    "    Always set threshold_in < threshold_out to avoid infinite looping.\n",
    "    See https://en.wikipedia.org/wiki/Stepwise_regression for the details\n",
    "    \"\"\"\n",
    "    included = list(initial_list)\n",
    "    while True:\n",
    "        changed=False\n",
    "        # forward step\n",
    "        excluded = list(set(X.columns)-set(included))\n",
    "        new_pval = pd.Series(index=excluded)\n",
    "        for new_column in excluded:\n",
    "            model = sm.OLS(y, sm.add_constant(pd.DataFrame(X[included+[new_column]]))).fit()\n",
    "            new_pval[new_column] = model.pvalues[new_column]\n",
    "        best_pval = new_pval.min()\n",
    "        if best_pval < threshold_in:\n",
    "            best_feature = new_pval.argmin()\n",
    "            included.append(best_feature)\n",
    "            changed=True\n",
    "            if verbose:\n",
    "                print('Add  {:30} with p-value {:.6}'.format(best_feature, best_pval))\n",
    "\n",
    "        # backward step\n",
    "        model = sm.OLS(y, sm.add_constant(pd.DataFrame(X[included]))).fit()\n",
    "        # use all coefs except intercept\n",
    "        pvalues = model.pvalues.iloc[1:]\n",
    "        worst_pval = pvalues.max() # null if pvalues is empty\n",
    "        if worst_pval > threshold_out:\n",
    "            changed=True\n",
    "            worst_feature = pvalues.argmax()\n",
    "            included.remove(worst_feature)\n",
    "            if verbose:\n",
    "                print('Drop {:30} with p-value {:.6}'.format(worst_feature, worst_pval))\n",
    "        if not changed:\n",
    "            break\n",
    "    return included\n",
    "\n",
    "result = stepwise_selection(x_train_scaled,y_train)\n",
    "\n",
    "print('resulting features:')\n",
    "print(result)"
   ]
  },
  {
   "cell_type": "code",
   "execution_count": 27,
   "metadata": {},
   "outputs": [
    {
     "name": "stdout",
     "output_type": "stream",
     "text": [
      "['M12_ENZYME_FLOW', 'M12_STABILIZER_FLOW', 'M12_TEMPERATURE', 'M12_WATER_NR', 'M12_WETTING_AGENT_FLOW', 'M18_TEMPERATURE', 'M19_RESERVE_NR', 'M19_STABILIZER_FLOW', 'M19_TEMPERATURE', 'M19_WETTING_AGENT_FLOW']\n"
     ]
    }
   ],
   "source": [
    "print(list(x_train_scaled.columns))"
   ]
  },
  {
   "cell_type": "code",
   "execution_count": 28,
   "metadata": {},
   "outputs": [
    {
     "name": "stdout",
     "output_type": "stream",
     "text": [
      "Including 1: M12_ENZYME_FLOW\n",
      "lin_reg: mean=0.835869259046914 std=0.05255424509852439\n",
      "Including 2: M12_STABILIZER_FLOW\n",
      "lin_reg: mean=0.8359760563994169 std=0.05260248679377752\n",
      "Including 3: M12_TEMPERATURE\n",
      "lin_reg: mean=0.8359363166815413 std=0.052607051903367626\n",
      "Including 4: M12_WATER_NR\n",
      "lin_reg: mean=0.8364205627922676 std=0.052841360884105085\n",
      "Including 5: M12_WETTING_AGENT_FLOW\n",
      "lin_reg: mean=0.8368461444250819 std=0.052029426914986396\n",
      "Including 6: M18_TEMPERATURE\n",
      "lin_reg: mean=0.836650342593057 std=0.05202699213119092\n",
      "Including 7: M19_RESERVE_NR\n",
      "lin_reg: mean=0.836720137193506 std=0.05201838610323464\n",
      "Including 8: M19_STABILIZER_FLOW\n",
      "lin_reg: mean=0.8389260251697668 std=0.050913835978344146\n",
      "Including 9: M19_TEMPERATURE\n",
      "lin_reg: mean=0.8413842239325332 std=0.051444118394954386\n",
      "Including 10: M19_WETTING_AGENT_FLOW\n",
      "lin_reg: mean=0.8437300413063455 std=0.05033309052592739\n"
     ]
    },
    {
     "name": "stderr",
     "output_type": "stream",
     "text": [
      "c:\\users\\aish.gupta\\appdata\\local\\programs\\python\\python36-32\\lib\\site-packages\\sklearn\\cross_validation.py:41: DeprecationWarning: This module was deprecated in version 0.18 in favor of the model_selection module into which all the refactored classes and functions are moved. Also note that the interface of the new CV iterators are different from that of this module. This module will be removed in 0.20.\n",
      "  \"This module will be removed in 0.20.\", DeprecationWarning)\n",
      "c:\\users\\aish.gupta\\appdata\\local\\programs\\python\\python36-32\\lib\\site-packages\\ipykernel_launcher.py:14: FutureWarning: Method .as_matrix will be removed in a future version. Use .values instead.\n",
      "  \n",
      "c:\\users\\aish.gupta\\appdata\\local\\programs\\python\\python36-32\\lib\\site-packages\\ipykernel_launcher.py:15: FutureWarning: Method .as_matrix will be removed in a future version. Use .values instead.\n",
      "  from ipykernel import kernelapp as app\n",
      "c:\\users\\aish.gupta\\appdata\\local\\programs\\python\\python36-32\\lib\\site-packages\\ipykernel_launcher.py:14: FutureWarning: Method .as_matrix will be removed in a future version. Use .values instead.\n",
      "  \n",
      "c:\\users\\aish.gupta\\appdata\\local\\programs\\python\\python36-32\\lib\\site-packages\\ipykernel_launcher.py:15: FutureWarning: Method .as_matrix will be removed in a future version. Use .values instead.\n",
      "  from ipykernel import kernelapp as app\n",
      "c:\\users\\aish.gupta\\appdata\\local\\programs\\python\\python36-32\\lib\\site-packages\\ipykernel_launcher.py:14: FutureWarning: Method .as_matrix will be removed in a future version. Use .values instead.\n",
      "  \n",
      "c:\\users\\aish.gupta\\appdata\\local\\programs\\python\\python36-32\\lib\\site-packages\\ipykernel_launcher.py:15: FutureWarning: Method .as_matrix will be removed in a future version. Use .values instead.\n",
      "  from ipykernel import kernelapp as app\n",
      "c:\\users\\aish.gupta\\appdata\\local\\programs\\python\\python36-32\\lib\\site-packages\\ipykernel_launcher.py:14: FutureWarning: Method .as_matrix will be removed in a future version. Use .values instead.\n",
      "  \n",
      "c:\\users\\aish.gupta\\appdata\\local\\programs\\python\\python36-32\\lib\\site-packages\\ipykernel_launcher.py:15: FutureWarning: Method .as_matrix will be removed in a future version. Use .values instead.\n",
      "  from ipykernel import kernelapp as app\n",
      "c:\\users\\aish.gupta\\appdata\\local\\programs\\python\\python36-32\\lib\\site-packages\\ipykernel_launcher.py:14: FutureWarning: Method .as_matrix will be removed in a future version. Use .values instead.\n",
      "  \n",
      "c:\\users\\aish.gupta\\appdata\\local\\programs\\python\\python36-32\\lib\\site-packages\\ipykernel_launcher.py:15: FutureWarning: Method .as_matrix will be removed in a future version. Use .values instead.\n",
      "  from ipykernel import kernelapp as app\n",
      "c:\\users\\aish.gupta\\appdata\\local\\programs\\python\\python36-32\\lib\\site-packages\\ipykernel_launcher.py:14: FutureWarning: Method .as_matrix will be removed in a future version. Use .values instead.\n",
      "  \n",
      "c:\\users\\aish.gupta\\appdata\\local\\programs\\python\\python36-32\\lib\\site-packages\\ipykernel_launcher.py:15: FutureWarning: Method .as_matrix will be removed in a future version. Use .values instead.\n",
      "  from ipykernel import kernelapp as app\n",
      "c:\\users\\aish.gupta\\appdata\\local\\programs\\python\\python36-32\\lib\\site-packages\\ipykernel_launcher.py:14: FutureWarning: Method .as_matrix will be removed in a future version. Use .values instead.\n",
      "  \n",
      "c:\\users\\aish.gupta\\appdata\\local\\programs\\python\\python36-32\\lib\\site-packages\\ipykernel_launcher.py:15: FutureWarning: Method .as_matrix will be removed in a future version. Use .values instead.\n",
      "  from ipykernel import kernelapp as app\n",
      "c:\\users\\aish.gupta\\appdata\\local\\programs\\python\\python36-32\\lib\\site-packages\\ipykernel_launcher.py:14: FutureWarning: Method .as_matrix will be removed in a future version. Use .values instead.\n",
      "  \n",
      "c:\\users\\aish.gupta\\appdata\\local\\programs\\python\\python36-32\\lib\\site-packages\\ipykernel_launcher.py:15: FutureWarning: Method .as_matrix will be removed in a future version. Use .values instead.\n",
      "  from ipykernel import kernelapp as app\n",
      "c:\\users\\aish.gupta\\appdata\\local\\programs\\python\\python36-32\\lib\\site-packages\\ipykernel_launcher.py:14: FutureWarning: Method .as_matrix will be removed in a future version. Use .values instead.\n",
      "  \n",
      "c:\\users\\aish.gupta\\appdata\\local\\programs\\python\\python36-32\\lib\\site-packages\\ipykernel_launcher.py:15: FutureWarning: Method .as_matrix will be removed in a future version. Use .values instead.\n",
      "  from ipykernel import kernelapp as app\n",
      "c:\\users\\aish.gupta\\appdata\\local\\programs\\python\\python36-32\\lib\\site-packages\\ipykernel_launcher.py:14: FutureWarning: Method .as_matrix will be removed in a future version. Use .values instead.\n",
      "  \n",
      "c:\\users\\aish.gupta\\appdata\\local\\programs\\python\\python36-32\\lib\\site-packages\\ipykernel_launcher.py:15: FutureWarning: Method .as_matrix will be removed in a future version. Use .values instead.\n",
      "  from ipykernel import kernelapp as app\n"
     ]
    }
   ],
   "source": [
    "from sklearn import linear_model\n",
    "from sklearn import cross_validation\n",
    "from sklearn import preprocessing\n",
    "\n",
    "\n",
    "features = x_train_scaled.columns.values\n",
    "consider = []\n",
    "i=1\n",
    "for col in features:\n",
    "        print(\"Including \"+str(i)+\": \"+str(col))\n",
    "        i+=1\n",
    "        consider.append(col)\n",
    "        \n",
    "        X = x_train_scaled[consider].as_matrix()\n",
    "        Y = y_train.as_matrix()\n",
    "\n",
    "        log_regressor = linear_model.LinearRegression()\n",
    "        score2 = cross_validation.cross_val_score(log_regressor,X,Y,cv=5)\n",
    "        print (\"lin_reg: mean=\"+str(np.mean(score2))+\" std=\"+str(np.std(score2)))"
   ]
  },
  {
   "cell_type": "code",
   "execution_count": null,
   "metadata": {},
   "outputs": [],
   "source": []
  }
 ],
 "metadata": {
  "kernelspec": {
   "display_name": "Python 3",
   "language": "python",
   "name": "python3"
  },
  "language_info": {
   "codemirror_mode": {
    "name": "ipython",
    "version": 3
   },
   "file_extension": ".py",
   "mimetype": "text/x-python",
   "name": "python",
   "nbconvert_exporter": "python",
   "pygments_lexer": "ipython3",
   "version": "3.6.5"
  }
 },
 "nbformat": 4,
 "nbformat_minor": 2
}
