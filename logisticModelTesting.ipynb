{
 "cells": [
  {
   "cell_type": "markdown",
   "metadata": {},
   "source": [
    "# Analytics test\n",
    "## The various steps performed on this data before the fitting of data is done.\n",
    "\n",
    "* Univariate analysis\n",
    "* NAN identification\n",
    "* Variance observation\n",
    "\n"
   ]
  },
  {
   "cell_type": "code",
   "execution_count": 1,
   "metadata": {},
   "outputs": [],
   "source": [
    "import pandas as pd\n",
    "import numpy as np\n",
    "import pandas as pd\n",
    "import matplotlib.pyplot as plt\n",
    "import seaborn as sns\n",
    "from sklearn.linear_model import LogisticRegression\n",
    "from sklearn.model_selection import train_test_split\n",
    "from sklearn.metrics import roc_curve\n",
    "from sklearn.metrics import roc_auc_score\n",
    "from sklearn.metrics import confusion_matrix\n",
    "from sklearn.metrics import r2_score\n",
    "from sklearn.preprocessing import StandardScaler\n",
    "from sklearn.decomposition import PCA\n",
    "from sklearn.ensemble import RandomForestClassifier\n"
   ]
  },
  {
   "cell_type": "code",
   "execution_count": 2,
   "metadata": {},
   "outputs": [
    {
     "data": {
      "text/html": [
       "<div>\n",
       "<style scoped>\n",
       "    .dataframe tbody tr th:only-of-type {\n",
       "        vertical-align: middle;\n",
       "    }\n",
       "\n",
       "    .dataframe tbody tr th {\n",
       "        vertical-align: top;\n",
       "    }\n",
       "\n",
       "    .dataframe thead th {\n",
       "        text-align: right;\n",
       "    }\n",
       "</style>\n",
       "<table border=\"1\" class=\"dataframe\">\n",
       "  <thead>\n",
       "    <tr style=\"text-align: right;\">\n",
       "      <th></th>\n",
       "      <th>Machine_speed</th>\n",
       "      <th>Machine_state</th>\n",
       "      <th>M12_ENZYME_FLOW</th>\n",
       "      <th>M12_STABILIZER_FLOW</th>\n",
       "      <th>M12_TEMPERATURE</th>\n",
       "      <th>M12_WATER_NR</th>\n",
       "      <th>M12_WETTING_AGENT_FLOW</th>\n",
       "      <th>M18_TEMPERATURE</th>\n",
       "      <th>M19_RESERVE_NR</th>\n",
       "      <th>M19_STABILIZER_FLOW</th>\n",
       "      <th>M19_TEMPERATURE</th>\n",
       "      <th>M19_WETTING_AGENT_FLOW</th>\n",
       "    </tr>\n",
       "  </thead>\n",
       "  <tbody>\n",
       "    <tr>\n",
       "      <th>0</th>\n",
       "      <td>46.973335</td>\n",
       "      <td>0</td>\n",
       "      <td>2.499970</td>\n",
       "      <td>2.066773</td>\n",
       "      <td>54.559528</td>\n",
       "      <td>949946.0000</td>\n",
       "      <td>2.991859</td>\n",
       "      <td>98.685355</td>\n",
       "      <td>10730.5</td>\n",
       "      <td>1.525074</td>\n",
       "      <td>56.871289</td>\n",
       "      <td>2.157189</td>\n",
       "    </tr>\n",
       "    <tr>\n",
       "      <th>1</th>\n",
       "      <td>46.973335</td>\n",
       "      <td>0</td>\n",
       "      <td>2.497196</td>\n",
       "      <td>2.101614</td>\n",
       "      <td>54.962861</td>\n",
       "      <td>949984.6667</td>\n",
       "      <td>2.992938</td>\n",
       "      <td>98.727884</td>\n",
       "      <td>10731.0</td>\n",
       "      <td>1.508612</td>\n",
       "      <td>56.878337</td>\n",
       "      <td>2.152422</td>\n",
       "    </tr>\n",
       "    <tr>\n",
       "      <th>2</th>\n",
       "      <td>46.973335</td>\n",
       "      <td>0</td>\n",
       "      <td>2.499792</td>\n",
       "      <td>2.113061</td>\n",
       "      <td>54.796452</td>\n",
       "      <td>950017.6667</td>\n",
       "      <td>2.996020</td>\n",
       "      <td>98.700322</td>\n",
       "      <td>10732.0</td>\n",
       "      <td>1.514143</td>\n",
       "      <td>56.905778</td>\n",
       "      <td>2.108552</td>\n",
       "    </tr>\n",
       "    <tr>\n",
       "      <th>3</th>\n",
       "      <td>46.973335</td>\n",
       "      <td>0</td>\n",
       "      <td>2.499559</td>\n",
       "      <td>2.129736</td>\n",
       "      <td>54.731283</td>\n",
       "      <td>950052.8000</td>\n",
       "      <td>2.996281</td>\n",
       "      <td>98.639509</td>\n",
       "      <td>10732.4</td>\n",
       "      <td>1.488390</td>\n",
       "      <td>56.968360</td>\n",
       "      <td>2.086052</td>\n",
       "    </tr>\n",
       "    <tr>\n",
       "      <th>4</th>\n",
       "      <td>46.973335</td>\n",
       "      <td>0</td>\n",
       "      <td>2.500058</td>\n",
       "      <td>2.093854</td>\n",
       "      <td>54.844514</td>\n",
       "      <td>950088.5000</td>\n",
       "      <td>2.988235</td>\n",
       "      <td>98.521231</td>\n",
       "      <td>10733.0</td>\n",
       "      <td>1.509662</td>\n",
       "      <td>57.011485</td>\n",
       "      <td>2.090726</td>\n",
       "    </tr>\n",
       "    <tr>\n",
       "      <th>5</th>\n",
       "      <td>46.973335</td>\n",
       "      <td>0</td>\n",
       "      <td>2.501300</td>\n",
       "      <td>2.134929</td>\n",
       "      <td>54.719098</td>\n",
       "      <td>950120.0000</td>\n",
       "      <td>2.991909</td>\n",
       "      <td>98.391523</td>\n",
       "      <td>10734.0</td>\n",
       "      <td>1.516884</td>\n",
       "      <td>57.065533</td>\n",
       "      <td>2.095202</td>\n",
       "    </tr>\n",
       "    <tr>\n",
       "      <th>6</th>\n",
       "      <td>46.973335</td>\n",
       "      <td>0</td>\n",
       "      <td>2.500378</td>\n",
       "      <td>2.082958</td>\n",
       "      <td>54.993215</td>\n",
       "      <td>950159.4000</td>\n",
       "      <td>2.999112</td>\n",
       "      <td>98.262201</td>\n",
       "      <td>10734.4</td>\n",
       "      <td>1.492385</td>\n",
       "      <td>57.116243</td>\n",
       "      <td>2.094006</td>\n",
       "    </tr>\n",
       "    <tr>\n",
       "      <th>7</th>\n",
       "      <td>46.973335</td>\n",
       "      <td>0</td>\n",
       "      <td>2.499837</td>\n",
       "      <td>1.839825</td>\n",
       "      <td>54.788962</td>\n",
       "      <td>950182.0000</td>\n",
       "      <td>2.992971</td>\n",
       "      <td>98.198697</td>\n",
       "      <td>10735.0</td>\n",
       "      <td>1.505333</td>\n",
       "      <td>57.246765</td>\n",
       "      <td>2.104141</td>\n",
       "    </tr>\n",
       "    <tr>\n",
       "      <th>8</th>\n",
       "      <td>46.973335</td>\n",
       "      <td>0</td>\n",
       "      <td>2.499646</td>\n",
       "      <td>1.957902</td>\n",
       "      <td>55.084868</td>\n",
       "      <td>950223.0000</td>\n",
       "      <td>2.998823</td>\n",
       "      <td>98.072553</td>\n",
       "      <td>10736.0</td>\n",
       "      <td>1.511921</td>\n",
       "      <td>57.205077</td>\n",
       "      <td>2.110120</td>\n",
       "    </tr>\n",
       "    <tr>\n",
       "      <th>9</th>\n",
       "      <td>46.973335</td>\n",
       "      <td>0</td>\n",
       "      <td>2.498415</td>\n",
       "      <td>2.121513</td>\n",
       "      <td>55.056075</td>\n",
       "      <td>950257.8333</td>\n",
       "      <td>2.989491</td>\n",
       "      <td>97.944455</td>\n",
       "      <td>10736.5</td>\n",
       "      <td>1.476032</td>\n",
       "      <td>57.245964</td>\n",
       "      <td>2.104826</td>\n",
       "    </tr>\n",
       "  </tbody>\n",
       "</table>\n",
       "</div>"
      ],
      "text/plain": [
       "   Machine_speed  Machine_state  M12_ENZYME_FLOW  M12_STABILIZER_FLOW  \\\n",
       "0      46.973335              0         2.499970             2.066773   \n",
       "1      46.973335              0         2.497196             2.101614   \n",
       "2      46.973335              0         2.499792             2.113061   \n",
       "3      46.973335              0         2.499559             2.129736   \n",
       "4      46.973335              0         2.500058             2.093854   \n",
       "5      46.973335              0         2.501300             2.134929   \n",
       "6      46.973335              0         2.500378             2.082958   \n",
       "7      46.973335              0         2.499837             1.839825   \n",
       "8      46.973335              0         2.499646             1.957902   \n",
       "9      46.973335              0         2.498415             2.121513   \n",
       "\n",
       "   M12_TEMPERATURE  M12_WATER_NR  M12_WETTING_AGENT_FLOW  M18_TEMPERATURE  \\\n",
       "0        54.559528   949946.0000                2.991859        98.685355   \n",
       "1        54.962861   949984.6667                2.992938        98.727884   \n",
       "2        54.796452   950017.6667                2.996020        98.700322   \n",
       "3        54.731283   950052.8000                2.996281        98.639509   \n",
       "4        54.844514   950088.5000                2.988235        98.521231   \n",
       "5        54.719098   950120.0000                2.991909        98.391523   \n",
       "6        54.993215   950159.4000                2.999112        98.262201   \n",
       "7        54.788962   950182.0000                2.992971        98.198697   \n",
       "8        55.084868   950223.0000                2.998823        98.072553   \n",
       "9        55.056075   950257.8333                2.989491        97.944455   \n",
       "\n",
       "   M19_RESERVE_NR  M19_STABILIZER_FLOW  M19_TEMPERATURE  \\\n",
       "0         10730.5             1.525074        56.871289   \n",
       "1         10731.0             1.508612        56.878337   \n",
       "2         10732.0             1.514143        56.905778   \n",
       "3         10732.4             1.488390        56.968360   \n",
       "4         10733.0             1.509662        57.011485   \n",
       "5         10734.0             1.516884        57.065533   \n",
       "6         10734.4             1.492385        57.116243   \n",
       "7         10735.0             1.505333        57.246765   \n",
       "8         10736.0             1.511921        57.205077   \n",
       "9         10736.5             1.476032        57.245964   \n",
       "\n",
       "   M19_WETTING_AGENT_FLOW  \n",
       "0                2.157189  \n",
       "1                2.152422  \n",
       "2                2.108552  \n",
       "3                2.086052  \n",
       "4                2.090726  \n",
       "5                2.095202  \n",
       "6                2.094006  \n",
       "7                2.104141  \n",
       "8                2.110120  \n",
       "9                2.104826  "
      ]
     },
     "execution_count": 2,
     "metadata": {},
     "output_type": "execute_result"
    }
   ],
   "source": [
    "features = pd.read_csv('machine.csv')\n",
    "features.head(10)"
   ]
  },
  {
   "cell_type": "code",
   "execution_count": 39,
   "metadata": {},
   "outputs": [],
   "source": [
    "y = features.Machine_state\n",
    "x = features.drop(['Machine_state','Machine_speed'],axis = 1)"
   ]
  },
  {
   "cell_type": "markdown",
   "metadata": {},
   "source": [
    "### The function below performs the univariate analysis on data"
   ]
  },
  {
   "cell_type": "code",
   "execution_count": 40,
   "metadata": {},
   "outputs": [],
   "source": [
    "def deep_describe(data):\n",
    "    cmsq = data.describe()\n",
    "    \n",
    "    mode = data.mode(axis = 0,numeric_only=True)\n",
    "    mode = mode.dropna(axis = 0,how='any')\n",
    "    mode = mode.set_index([['mode']])\n",
    "    \n",
    "    median = pd.DataFrame(data.median()).transpose()\n",
    "    median = median.set_index([['median']])\n",
    "    \n",
    "    variance = pd.DataFrame(x.var(0)).T\n",
    "    variance = variance.set_index([['variance']])\n",
    "    \n",
    "    kurtosis = pd.DataFrame(data.kurtosis()).transpose()\n",
    "    kurtosis = kurtosis.set_index([['kurtosis']])\n",
    "    \n",
    "    skew = pd.DataFrame(data.skew()).transpose()\n",
    "    skew = skew.set_index([['skewness']])\n",
    "    \n",
    "    tr = [cmsq,variance,mode,median,skew,kurtosis]\n",
    "    return pd.concat(tr)"
   ]
  },
  {
   "cell_type": "code",
   "execution_count": 41,
   "metadata": {},
   "outputs": [
    {
     "data": {
      "text/html": [
       "<div>\n",
       "<style scoped>\n",
       "    .dataframe tbody tr th:only-of-type {\n",
       "        vertical-align: middle;\n",
       "    }\n",
       "\n",
       "    .dataframe tbody tr th {\n",
       "        vertical-align: top;\n",
       "    }\n",
       "\n",
       "    .dataframe thead th {\n",
       "        text-align: right;\n",
       "    }\n",
       "</style>\n",
       "<table border=\"1\" class=\"dataframe\">\n",
       "  <thead>\n",
       "    <tr style=\"text-align: right;\">\n",
       "      <th></th>\n",
       "      <th>M12_ENZYME_FLOW</th>\n",
       "      <th>M12_STABILIZER_FLOW</th>\n",
       "      <th>M12_TEMPERATURE</th>\n",
       "      <th>M12_WATER_NR</th>\n",
       "      <th>M12_WETTING_AGENT_FLOW</th>\n",
       "      <th>M18_TEMPERATURE</th>\n",
       "      <th>M19_RESERVE_NR</th>\n",
       "      <th>M19_STABILIZER_FLOW</th>\n",
       "      <th>M19_TEMPERATURE</th>\n",
       "      <th>M19_WETTING_AGENT_FLOW</th>\n",
       "    </tr>\n",
       "  </thead>\n",
       "  <tbody>\n",
       "    <tr>\n",
       "      <th>count</th>\n",
       "      <td>2.988000e+03</td>\n",
       "      <td>2.988000e+03</td>\n",
       "      <td>2.988000e+03</td>\n",
       "      <td>2.988000e+03</td>\n",
       "      <td>2988.000000</td>\n",
       "      <td>2.988000e+03</td>\n",
       "      <td>2988.000000</td>\n",
       "      <td>2988.000000</td>\n",
       "      <td>2.988000e+03</td>\n",
       "      <td>2988.000000</td>\n",
       "    </tr>\n",
       "    <tr>\n",
       "      <th>mean</th>\n",
       "      <td>2.170996e+00</td>\n",
       "      <td>1.705574e+00</td>\n",
       "      <td>5.451328e+01</td>\n",
       "      <td>9.902124e+05</td>\n",
       "      <td>2.374626</td>\n",
       "      <td>9.629589e+01</td>\n",
       "      <td>10958.558846</td>\n",
       "      <td>1.494842</td>\n",
       "      <td>5.747148e+01</td>\n",
       "      <td>1.324780</td>\n",
       "    </tr>\n",
       "    <tr>\n",
       "      <th>std</th>\n",
       "      <td>8.353066e-01</td>\n",
       "      <td>6.796562e-01</td>\n",
       "      <td>5.262175e+00</td>\n",
       "      <td>1.965182e+04</td>\n",
       "      <td>1.000699</td>\n",
       "      <td>9.441423e+00</td>\n",
       "      <td>147.473730</td>\n",
       "      <td>0.767476</td>\n",
       "      <td>5.761615e+00</td>\n",
       "      <td>0.545401</td>\n",
       "    </tr>\n",
       "    <tr>\n",
       "      <th>min</th>\n",
       "      <td>-8.560000e-07</td>\n",
       "      <td>-7.570000e-07</td>\n",
       "      <td>1.370000e-38</td>\n",
       "      <td>9.499460e+05</td>\n",
       "      <td>-0.000002</td>\n",
       "      <td>2.460000e-38</td>\n",
       "      <td>10730.500000</td>\n",
       "      <td>-0.000003</td>\n",
       "      <td>1.450000e-38</td>\n",
       "      <td>-0.018309</td>\n",
       "    </tr>\n",
       "    <tr>\n",
       "      <th>25%</th>\n",
       "      <td>2.491944e+00</td>\n",
       "      <td>1.974200e+00</td>\n",
       "      <td>5.473029e+01</td>\n",
       "      <td>9.776498e+05</td>\n",
       "      <td>2.249223</td>\n",
       "      <td>9.673316e+01</td>\n",
       "      <td>10872.000000</td>\n",
       "      <td>1.478241</td>\n",
       "      <td>5.712369e+01</td>\n",
       "      <td>1.489610</td>\n",
       "    </tr>\n",
       "    <tr>\n",
       "      <th>50%</th>\n",
       "      <td>2.498786e+00</td>\n",
       "      <td>1.997653e+00</td>\n",
       "      <td>5.499982e+01</td>\n",
       "      <td>9.937956e+05</td>\n",
       "      <td>2.936472</td>\n",
       "      <td>9.786367e+01</td>\n",
       "      <td>10916.000000</td>\n",
       "      <td>1.504285</td>\n",
       "      <td>5.820497e+01</td>\n",
       "      <td>1.499058</td>\n",
       "    </tr>\n",
       "    <tr>\n",
       "      <th>75%</th>\n",
       "      <td>2.502232e+00</td>\n",
       "      <td>2.003798e+00</td>\n",
       "      <td>5.525958e+01</td>\n",
       "      <td>1.006039e+06</td>\n",
       "      <td>2.999094</td>\n",
       "      <td>9.837613e+01</td>\n",
       "      <td>11059.000000</td>\n",
       "      <td>1.521707</td>\n",
       "      <td>5.880156e+01</td>\n",
       "      <td>1.502098</td>\n",
       "    </tr>\n",
       "    <tr>\n",
       "      <th>max</th>\n",
       "      <td>2.972470e+00</td>\n",
       "      <td>2.425751e+00</td>\n",
       "      <td>6.011282e+01</td>\n",
       "      <td>1.022285e+06</td>\n",
       "      <td>3.215173</td>\n",
       "      <td>1.007535e+02</td>\n",
       "      <td>11300.000000</td>\n",
       "      <td>4.151384</td>\n",
       "      <td>6.130416e+01</td>\n",
       "      <td>3.031350</td>\n",
       "    </tr>\n",
       "    <tr>\n",
       "      <th>variance</th>\n",
       "      <td>6.977371e-01</td>\n",
       "      <td>4.619326e-01</td>\n",
       "      <td>2.769049e+01</td>\n",
       "      <td>3.861939e+08</td>\n",
       "      <td>1.001398</td>\n",
       "      <td>8.914047e+01</td>\n",
       "      <td>21748.501079</td>\n",
       "      <td>0.589019</td>\n",
       "      <td>3.319621e+01</td>\n",
       "      <td>0.297462</td>\n",
       "    </tr>\n",
       "    <tr>\n",
       "      <th>mode</th>\n",
       "      <td>0.000000e+00</td>\n",
       "      <td>0.000000e+00</td>\n",
       "      <td>1.370000e-38</td>\n",
       "      <td>9.945230e+05</td>\n",
       "      <td>0.000000</td>\n",
       "      <td>2.460000e-38</td>\n",
       "      <td>10916.000000</td>\n",
       "      <td>0.000000</td>\n",
       "      <td>1.450000e-38</td>\n",
       "      <td>0.000000</td>\n",
       "    </tr>\n",
       "    <tr>\n",
       "      <th>median</th>\n",
       "      <td>2.498786e+00</td>\n",
       "      <td>1.997653e+00</td>\n",
       "      <td>5.499982e+01</td>\n",
       "      <td>9.937956e+05</td>\n",
       "      <td>2.936472</td>\n",
       "      <td>9.786367e+01</td>\n",
       "      <td>10916.000000</td>\n",
       "      <td>1.504285</td>\n",
       "      <td>5.820497e+01</td>\n",
       "      <td>1.499058</td>\n",
       "    </tr>\n",
       "    <tr>\n",
       "      <th>skewness</th>\n",
       "      <td>-2.178295e+00</td>\n",
       "      <td>-1.982022e+00</td>\n",
       "      <td>-9.797014e+00</td>\n",
       "      <td>-5.019219e-01</td>\n",
       "      <td>-1.655724</td>\n",
       "      <td>-9.365463e+00</td>\n",
       "      <td>0.634671</td>\n",
       "      <td>0.024143</td>\n",
       "      <td>-8.743522e+00</td>\n",
       "      <td>-1.536416</td>\n",
       "    </tr>\n",
       "    <tr>\n",
       "      <th>kurtosis</th>\n",
       "      <td>2.791542e+00</td>\n",
       "      <td>2.109631e+00</td>\n",
       "      <td>9.811778e+01</td>\n",
       "      <td>-7.217224e-01</td>\n",
       "      <td>1.258534</td>\n",
       "      <td>9.194298e+01</td>\n",
       "      <td>-0.486837</td>\n",
       "      <td>0.850135</td>\n",
       "      <td>8.389751e+01</td>\n",
       "      <td>2.304191</td>\n",
       "    </tr>\n",
       "  </tbody>\n",
       "</table>\n",
       "</div>"
      ],
      "text/plain": [
       "          M12_ENZYME_FLOW  M12_STABILIZER_FLOW  M12_TEMPERATURE  M12_WATER_NR  \\\n",
       "count        2.988000e+03         2.988000e+03     2.988000e+03  2.988000e+03   \n",
       "mean         2.170996e+00         1.705574e+00     5.451328e+01  9.902124e+05   \n",
       "std          8.353066e-01         6.796562e-01     5.262175e+00  1.965182e+04   \n",
       "min         -8.560000e-07        -7.570000e-07     1.370000e-38  9.499460e+05   \n",
       "25%          2.491944e+00         1.974200e+00     5.473029e+01  9.776498e+05   \n",
       "50%          2.498786e+00         1.997653e+00     5.499982e+01  9.937956e+05   \n",
       "75%          2.502232e+00         2.003798e+00     5.525958e+01  1.006039e+06   \n",
       "max          2.972470e+00         2.425751e+00     6.011282e+01  1.022285e+06   \n",
       "variance     6.977371e-01         4.619326e-01     2.769049e+01  3.861939e+08   \n",
       "mode         0.000000e+00         0.000000e+00     1.370000e-38  9.945230e+05   \n",
       "median       2.498786e+00         1.997653e+00     5.499982e+01  9.937956e+05   \n",
       "skewness    -2.178295e+00        -1.982022e+00    -9.797014e+00 -5.019219e-01   \n",
       "kurtosis     2.791542e+00         2.109631e+00     9.811778e+01 -7.217224e-01   \n",
       "\n",
       "          M12_WETTING_AGENT_FLOW  M18_TEMPERATURE  M19_RESERVE_NR  \\\n",
       "count                2988.000000     2.988000e+03     2988.000000   \n",
       "mean                    2.374626     9.629589e+01    10958.558846   \n",
       "std                     1.000699     9.441423e+00      147.473730   \n",
       "min                    -0.000002     2.460000e-38    10730.500000   \n",
       "25%                     2.249223     9.673316e+01    10872.000000   \n",
       "50%                     2.936472     9.786367e+01    10916.000000   \n",
       "75%                     2.999094     9.837613e+01    11059.000000   \n",
       "max                     3.215173     1.007535e+02    11300.000000   \n",
       "variance                1.001398     8.914047e+01    21748.501079   \n",
       "mode                    0.000000     2.460000e-38    10916.000000   \n",
       "median                  2.936472     9.786367e+01    10916.000000   \n",
       "skewness               -1.655724    -9.365463e+00        0.634671   \n",
       "kurtosis                1.258534     9.194298e+01       -0.486837   \n",
       "\n",
       "          M19_STABILIZER_FLOW  M19_TEMPERATURE  M19_WETTING_AGENT_FLOW  \n",
       "count             2988.000000     2.988000e+03             2988.000000  \n",
       "mean                 1.494842     5.747148e+01                1.324780  \n",
       "std                  0.767476     5.761615e+00                0.545401  \n",
       "min                 -0.000003     1.450000e-38               -0.018309  \n",
       "25%                  1.478241     5.712369e+01                1.489610  \n",
       "50%                  1.504285     5.820497e+01                1.499058  \n",
       "75%                  1.521707     5.880156e+01                1.502098  \n",
       "max                  4.151384     6.130416e+01                3.031350  \n",
       "variance             0.589019     3.319621e+01                0.297462  \n",
       "mode                 0.000000     1.450000e-38                0.000000  \n",
       "median               1.504285     5.820497e+01                1.499058  \n",
       "skewness             0.024143    -8.743522e+00               -1.536416  \n",
       "kurtosis             0.850135     8.389751e+01                2.304191  "
      ]
     },
     "execution_count": 41,
     "metadata": {},
     "output_type": "execute_result"
    }
   ],
   "source": [
    "deep_describe(x)"
   ]
  },
  {
   "cell_type": "markdown",
   "metadata": {},
   "source": [
    "### Null value analysis"
   ]
  },
  {
   "cell_type": "code",
   "execution_count": 183,
   "metadata": {},
   "outputs": [
    {
     "data": {
      "text/html": [
       "<div>\n",
       "<style scoped>\n",
       "    .dataframe tbody tr th:only-of-type {\n",
       "        vertical-align: middle;\n",
       "    }\n",
       "\n",
       "    .dataframe tbody tr th {\n",
       "        vertical-align: top;\n",
       "    }\n",
       "\n",
       "    .dataframe thead th {\n",
       "        text-align: right;\n",
       "    }\n",
       "</style>\n",
       "<table border=\"1\" class=\"dataframe\">\n",
       "  <thead>\n",
       "    <tr style=\"text-align: right;\">\n",
       "      <th></th>\n",
       "      <th>M12_ENZYME_FLOW</th>\n",
       "      <th>M12_STABILIZER_FLOW</th>\n",
       "      <th>M12_TEMPERATURE</th>\n",
       "      <th>M12_WATER_NR</th>\n",
       "      <th>M12_WETTING_AGENT_FLOW</th>\n",
       "      <th>M18_TEMPERATURE</th>\n",
       "      <th>M19_RESERVE_NR</th>\n",
       "      <th>M19_STABILIZER_FLOW</th>\n",
       "      <th>M19_TEMPERATURE</th>\n",
       "      <th>M19_WETTING_AGENT_FLOW</th>\n",
       "    </tr>\n",
       "  </thead>\n",
       "  <tbody>\n",
       "    <tr>\n",
       "      <th>total_null</th>\n",
       "      <td>0.0</td>\n",
       "      <td>0.0</td>\n",
       "      <td>0.0</td>\n",
       "      <td>0.0</td>\n",
       "      <td>0.0</td>\n",
       "      <td>0.0</td>\n",
       "      <td>0.0</td>\n",
       "      <td>0.0</td>\n",
       "      <td>0.0</td>\n",
       "      <td>0.0</td>\n",
       "    </tr>\n",
       "    <tr>\n",
       "      <th>percent_null</th>\n",
       "      <td>0.0</td>\n",
       "      <td>0.0</td>\n",
       "      <td>0.0</td>\n",
       "      <td>0.0</td>\n",
       "      <td>0.0</td>\n",
       "      <td>0.0</td>\n",
       "      <td>0.0</td>\n",
       "      <td>0.0</td>\n",
       "      <td>0.0</td>\n",
       "      <td>0.0</td>\n",
       "    </tr>\n",
       "  </tbody>\n",
       "</table>\n",
       "</div>"
      ],
      "text/plain": [
       "              M12_ENZYME_FLOW  M12_STABILIZER_FLOW  M12_TEMPERATURE  \\\n",
       "total_null                0.0                  0.0              0.0   \n",
       "percent_null              0.0                  0.0              0.0   \n",
       "\n",
       "              M12_WATER_NR  M12_WETTING_AGENT_FLOW  M18_TEMPERATURE  \\\n",
       "total_null             0.0                     0.0              0.0   \n",
       "percent_null           0.0                     0.0              0.0   \n",
       "\n",
       "              M19_RESERVE_NR  M19_STABILIZER_FLOW  M19_TEMPERATURE  \\\n",
       "total_null               0.0                  0.0              0.0   \n",
       "percent_null             0.0                  0.0              0.0   \n",
       "\n",
       "              M19_WETTING_AGENT_FLOW  \n",
       "total_null                       0.0  \n",
       "percent_null                     0.0  "
      ]
     },
     "execution_count": 183,
     "metadata": {},
     "output_type": "execute_result"
    }
   ],
   "source": [
    "total = x.isnull().sum()\n",
    "percent1 = x.isnull().sum()*100/x.isnull().count()\n",
    "percent = (round(percent1,1))\n",
    "missing_data = pd.concat([total,percent],axis = 1,keys = ['total_null','percent_null']).transpose()\n",
    "missing_data"
   ]
  },
  {
   "cell_type": "markdown",
   "metadata": {},
   "source": [
    "#### The variance in the above data is not to required scale so the scaling is done."
   ]
  },
  {
   "cell_type": "markdown",
   "metadata": {},
   "source": [
    "## Splitting the data\n",
    "Splitting of the data for testing and training of model in ratio 7:3"
   ]
  },
  {
   "cell_type": "code",
   "execution_count": 42,
   "metadata": {},
   "outputs": [],
   "source": [
    "x_train, x_test, y_train, y_test = train_test_split(x, y, test_size=0.3)"
   ]
  },
  {
   "cell_type": "markdown",
   "metadata": {},
   "source": [
    "Scaling of data Due to irregular variances"
   ]
  },
  {
   "cell_type": "code",
   "execution_count": 43,
   "metadata": {},
   "outputs": [],
   "source": [
    "scaler = StandardScaler().fit(x_train)\n",
    "x_train_scaled = pd.DataFrame(scaler.transform(x_train),index=x_train.index.values, columns=x_train.columns.values)\n",
    "x_test_scaled = pd.DataFrame(scaler.transform(x_test), index=x_test.index.values, columns=x_test.columns.values)"
   ]
  },
  {
   "cell_type": "code",
   "execution_count": 34,
   "metadata": {},
   "outputs": [
    {
     "name": "stderr",
     "output_type": "stream",
     "text": [
      "c:\\users\\aish.gupta\\appdata\\local\\programs\\python\\python36-32\\lib\\site-packages\\matplotlib\\axes\\_axes.py:6462: UserWarning: The 'normed' kwarg is deprecated, and has been replaced by the 'density' kwarg.\n",
      "  warnings.warn(\"The 'normed' kwarg is deprecated, and has been \"\n"
     ]
    },
    {
     "data": {
      "image/png": "[encoded data removed]",
      "text/plain": [
       "<Figure size 432x288 with 1 Axes>"
      ]
     },
     "metadata": {},
     "output_type": "display_data"
    }
   ],
   "source": [
    "#sns.distplot(x_train_scaled['Machine_speed'])\n",
    "\n",
    "from sklearn.preprocessing import Normalizer\n",
    "\n",
    "normal = Normalizer().fit(x_train)\n",
    "x_train_normalized = pd.DataFrame(normal.transform(x_train),index=x_train.index.values, columns=x_train.columns.values)\n",
    "df = pd.DataFrame(x_train_normalized['M12_STABILIZER_FLOW'])\n",
    "g = sns.distplot(df)\n",
    "for tick in g.get_xticklabels():\n",
    "    tick.set_rotation(60)"
   ]
  },
  {
   "cell_type": "code",
   "execution_count": 242,
   "metadata": {},
   "outputs": [
    {
     "ename": "TypeError",
     "evalue": "nlargest() missing 2 required positional arguments: 'n' and 'columns'",
     "output_type": "error",
     "traceback": [
      "\u001b[1;31m---------------------------------------------------------------------------\u001b[0m",
      "\u001b[1;31mTypeError\u001b[0m                                 Traceback (most recent call last)",
      "\u001b[1;32m<ipython-input-242-46c6ad190c97>\u001b[0m in \u001b[0;36m<module>\u001b[1;34m()\u001b[0m\n\u001b[0;32m      1\u001b[0m \u001b[0mskew\u001b[0m \u001b[1;33m=\u001b[0m \u001b[0mpd\u001b[0m\u001b[1;33m.\u001b[0m\u001b[0mDataFrame\u001b[0m\u001b[1;33m(\u001b[0m\u001b[0mx\u001b[0m\u001b[1;33m.\u001b[0m\u001b[0mskew\u001b[0m\u001b[1;33m(\u001b[0m\u001b[1;33m)\u001b[0m\u001b[1;33m)\u001b[0m\u001b[1;33m.\u001b[0m\u001b[0mtranspose\u001b[0m\u001b[1;33m(\u001b[0m\u001b[1;33m)\u001b[0m\u001b[1;33m\u001b[0m\u001b[0m\n\u001b[1;32m----> 2\u001b[1;33m \u001b[0mskew\u001b[0m \u001b[1;33m=\u001b[0m \u001b[0mskew\u001b[0m\u001b[1;33m.\u001b[0m\u001b[0mset_index\u001b[0m\u001b[1;33m(\u001b[0m\u001b[1;33m[\u001b[0m\u001b[1;33m[\u001b[0m\u001b[1;34m'skewness'\u001b[0m\u001b[1;33m]\u001b[0m\u001b[1;33m]\u001b[0m\u001b[1;33m)\u001b[0m\u001b[1;33m.\u001b[0m\u001b[0mapply\u001b[0m\u001b[1;33m(\u001b[0m\u001b[0mnp\u001b[0m\u001b[1;33m.\u001b[0m\u001b[0mabs\u001b[0m\u001b[1;33m,\u001b[0m\u001b[0maxis\u001b[0m \u001b[1;33m=\u001b[0m \u001b[1;36m1\u001b[0m\u001b[1;33m)\u001b[0m\u001b[1;33m.\u001b[0m\u001b[0mnlargest\u001b[0m\u001b[1;33m(\u001b[0m\u001b[1;33m)\u001b[0m\u001b[1;33m\u001b[0m\u001b[0m\n\u001b[0m\u001b[0;32m      3\u001b[0m \u001b[0mskew\u001b[0m\u001b[1;33m\u001b[0m\u001b[0m\n",
      "\u001b[1;31mTypeError\u001b[0m: nlargest() missing 2 required positional arguments: 'n' and 'columns'"
     ]
    }
   ],
   "source": [
    "skew = pd.DataFrame(x.skew()).transpose()\n",
    "skew = skew.set_index([['skewness']]).apply(np.abs,axis = 1).nlargest()\n",
    "skew"
   ]
  },
  {
   "cell_type": "markdown",
   "metadata": {},
   "source": [
    "#### Principal component analysis (PCA).\n",
    "#### Linear dimensionality reduction using Singular Value Decomposition of the data to project it to a lower dimensional space."
   ]
  },
  {
   "cell_type": "code",
   "execution_count": 25,
   "metadata": {},
   "outputs": [],
   "source": [
    "pca = PCA()\n",
    "pca.fit(x_train)\n",
    "cpts = pd.DataFrame(pca.transform(x_train))\n",
    "x_axis = np.arange(1, pca.n_components_+1)\n",
    "\n",
    "\n",
    "pca_scaled = PCA()\n",
    "pca_scaled.fit(x_train_scaled)\n",
    "cpts_scaled = pd.DataFrame(pca.transform(x_train_scaled))"
   ]
  },
  {
   "cell_type": "code",
   "execution_count": 26,
   "metadata": {},
   "outputs": [
    {
     "data": {
      "image/png": "[encoded data removed]",
      "text/plain": [
       "<Figure size 432x288 with 1 Axes>"
      ]
     },
     "metadata": {},
     "output_type": "display_data"
    },
    {
     "data": {
      "image/png": "[encoded data removed]",
      "text/plain": [
       "<Figure size 432x288 with 1 Axes>"
      ]
     },
     "metadata": {},
     "output_type": "display_data"
    },
    {
     "data": {
      "text/html": [
       "<div>\n",
       "<style scoped>\n",
       "    .dataframe tbody tr th:only-of-type {\n",
       "        vertical-align: middle;\n",
       "    }\n",
       "\n",
       "    .dataframe tbody tr th {\n",
       "        vertical-align: top;\n",
       "    }\n",
       "\n",
       "    .dataframe thead th {\n",
       "        text-align: right;\n",
       "    }\n",
       "</style>\n",
       "<table border=\"1\" class=\"dataframe\">\n",
       "  <thead>\n",
       "    <tr style=\"text-align: right;\">\n",
       "      <th></th>\n",
       "      <th>0</th>\n",
       "    </tr>\n",
       "  </thead>\n",
       "  <tbody>\n",
       "    <tr>\n",
       "      <th>0</th>\n",
       "      <td>M12_ENZYME_FLOW</td>\n",
       "    </tr>\n",
       "    <tr>\n",
       "      <th>1</th>\n",
       "      <td>M12_STABILIZER_FLOW</td>\n",
       "    </tr>\n",
       "    <tr>\n",
       "      <th>2</th>\n",
       "      <td>M12_TEMPERATURE</td>\n",
       "    </tr>\n",
       "    <tr>\n",
       "      <th>3</th>\n",
       "      <td>M12_WATER_NR</td>\n",
       "    </tr>\n",
       "    <tr>\n",
       "      <th>4</th>\n",
       "      <td>M12_WETTING_AGENT_FLOW</td>\n",
       "    </tr>\n",
       "    <tr>\n",
       "      <th>5</th>\n",
       "      <td>M18_TEMPERATURE</td>\n",
       "    </tr>\n",
       "    <tr>\n",
       "      <th>6</th>\n",
       "      <td>M19_RESERVE_NR</td>\n",
       "    </tr>\n",
       "    <tr>\n",
       "      <th>7</th>\n",
       "      <td>M19_STABILIZER_FLOW</td>\n",
       "    </tr>\n",
       "    <tr>\n",
       "      <th>8</th>\n",
       "      <td>M19_TEMPERATURE</td>\n",
       "    </tr>\n",
       "    <tr>\n",
       "      <th>9</th>\n",
       "      <td>M19_WETTING_AGENT_FLOW</td>\n",
       "    </tr>\n",
       "  </tbody>\n",
       "</table>\n",
       "</div>"
      ],
      "text/plain": [
       "                        0\n",
       "0         M12_ENZYME_FLOW\n",
       "1     M12_STABILIZER_FLOW\n",
       "2         M12_TEMPERATURE\n",
       "3            M12_WATER_NR\n",
       "4  M12_WETTING_AGENT_FLOW\n",
       "5         M18_TEMPERATURE\n",
       "6          M19_RESERVE_NR\n",
       "7     M19_STABILIZER_FLOW\n",
       "8         M19_TEMPERATURE\n",
       "9  M19_WETTING_AGENT_FLOW"
      ]
     },
     "execution_count": 26,
     "metadata": {},
     "output_type": "execute_result"
    }
   ],
   "source": [
    "plt.bar(x_axis,pca.explained_variance_ratio_)\n",
    "plt.xticks(x_axis,x_axis)\n",
    "plt.ylim(0,1)\n",
    "plt.title('Before Scaling')\n",
    "plt.show()\n",
    "\n",
    "plt.bar(x_axis,pca_scaled.explained_variance_ratio_)\n",
    "plt.xticks(x_axis,x_axis)\n",
    "plt.ylim(0,1)\n",
    "plt.title('After Scaling')\n",
    "plt.show()\n",
    "\n",
    "pd.DataFrame(x_train.columns)"
   ]
  },
  {
   "cell_type": "markdown",
   "metadata": {},
   "source": [
    "## REGRESSION BEFORE SCALING"
   ]
  },
  {
   "cell_type": "code",
   "execution_count": 268,
   "metadata": {},
   "outputs": [
    {
     "name": "stdout",
     "output_type": "stream",
     "text": [
      "Area under ROC Curve:  0.5\n",
      "     0  1\n",
      "0  764  0\n",
      "1  133  0\n",
      "                        coefficients\n",
      "M12_ENZYME_FLOW            -0.000269\n",
      "M12_STABILIZER_FLOW        -0.000213\n",
      "M12_TEMPERATURE            -0.000440\n",
      "M12_WATER_NR                0.000090\n",
      "M12_WETTING_AGENT_FLOW     -0.000297\n",
      "M18_TEMPERATURE            -0.000984\n",
      "M19_RESERVE_NR             -0.008304\n",
      "M19_STABILIZER_FLOW        -0.000190\n",
      "M19_TEMPERATURE            -0.000659\n",
      "M19_WETTING_AGENT_FLOW     -0.000167\n"
     ]
    },
    {
     "data": {
      "image/png": "[encoded data removed]",
      "text/plain": [
       "<Figure size 432x288 with 2 Axes>"
      ]
     },
     "metadata": {},
     "output_type": "display_data"
    }
   ],
   "source": [
    "logit = LogisticRegression()\n",
    "logit = logit.fit(x_train,y_train)\n",
    "pred = logit.predict(x_test)\n",
    "print('Area under ROC Curve: ',roc_auc_score(y_test,pred))\n",
    "cm = pd.DataFrame(confusion_matrix(y_test,pred))\n",
    "print(cm)\n",
    "sns.heatmap(cm,annot = True,cmap=\"YlGnBu\")\n",
    "print(pd.DataFrame(logit.coef_,columns = x.columns,index= ['coefficients']).T)\n",
    "\n",
    "fpr_unsc, tpr_unsc, _ = roc_curve(y_test,pred) "
   ]
  },
  {
   "cell_type": "markdown",
   "metadata": {},
   "source": [
    "## Regression after scaling"
   ]
  },
  {
   "cell_type": "code",
   "execution_count": 64,
   "metadata": {},
   "outputs": [
    {
     "name": "stdout",
     "output_type": "stream",
     "text": [
      "Area under ROC Curve:  0.9504354270891235\n",
      "                        coefficients\n",
      "M12_ENZYME_FLOW            -0.407040\n",
      "M12_STABILIZER_FLOW        -0.273678\n",
      "M12_TEMPERATURE             0.345125\n",
      "M12_WATER_NR                0.711063\n",
      "M12_WETTING_AGENT_FLOW     -0.831520\n",
      "M18_TEMPERATURE             0.189511\n",
      "M19_RESERVE_NR             -0.094730\n",
      "M19_STABILIZER_FLOW        -0.423678\n",
      "M19_TEMPERATURE            -0.816276\n",
      "M19_WETTING_AGENT_FLOW     -1.102093\n"
     ]
    },
    {
     "data": {
      "image/png": "[encoded data removed]",
      "text/plain": [
       "<Figure size 432x288 with 2 Axes>"
      ]
     },
     "metadata": {},
     "output_type": "display_data"
    }
   ],
   "source": [
    "logit = LogisticRegression()\n",
    "logit = logit.fit(x_train_scaled,y_train)\n",
    "pd.DataFrame(logit.coef_,columns = x.columns).T\n",
    "pred = logit.predict(x_test_scaled)\n",
    "print('Area under ROC Curve: ',roc_auc_score(y_test,pred))\n",
    "cm = pd.DataFrame(confusion_matrix(y_test,pred))\n",
    "\n",
    "sns.heatmap(cm,annot = True,cmap=\"YlGnBu\")\n",
    "\n",
    "coeff = pd.DataFrame(logit.coef_,columns = x.columns,index= ['coefficients']).T\n",
    "print(coeff)\n",
    "\n",
    "fpr_sc, tpr_sc, _ = roc_curve(y_test,pred) "
   ]
  },
  {
   "cell_type": "markdown",
   "metadata": {},
   "source": [
    "## Visualisation of logistic regression"
   ]
  },
  {
   "cell_type": "markdown",
   "metadata": {},
   "source": [
    "for making a plot for regression i need to do multiplication of coefficients with the respective columns and then addition of these columns to make 1 column and then plot the probability according to these.\n",
    "\n",
    "#### For displaying logistic regression with 1 variable\n",
    "* ax = sns.regplot( x = 'M12_WETTING_AGENT_FLOW', y = 'Machine_state', data=pd.concat([pd.DataFrame(y_train),x_train],axis = 1),logistic=True, n_boot=500, y_jitter=.03)"
   ]
  },
  {
   "cell_type": "code",
   "execution_count": 173,
   "metadata": {},
   "outputs": [],
   "source": [
    "coeff_dict = dict(coeff['coefficients'])\n",
    "\n",
    "df = pd.DataFrame()\n",
    "count = 0\n",
    "for i in coeff.index:\n",
    "    if count == 0:\n",
    "        df = pd.DataFrame(x_test_scaled[i].multiply(coeff_dict[i])).T.set_index([['0']]).T\n",
    "    else:\n",
    "        df.add(pd.DataFrame(x_test_scaled[i].multiply(coeff_dict[i])))\n",
    "    count+=1"
   ]
  },
  {
   "cell_type": "code",
   "execution_count": 175,
   "metadata": {},
   "outputs": [
    {
     "data": {
      "text/plain": [
       "[<matplotlib.lines.Line2D at 0x14e8d610>]"
      ]
     },
     "execution_count": 175,
     "metadata": {},
     "output_type": "execute_result"
    },
    {
     "data": {
      "image/png": "[encoded data removed]",
      "text/plain": [
       "<Figure size 432x288 with 1 Axes>"
      ]
     },
     "metadata": {},
     "output_type": "display_data"
    }
   ],
   "source": [
    "prob = df['0']\n",
    "#prob = pd.DataFrame(logit.predict_proba(x_test_scaled))\n",
    "fff = pd.DataFrame(logit.predict(x_test_scaled))\n",
    "\n",
    "def f(t):\n",
    "    return 1/(1+np.exp(-10*(t - (min_point + max_point)/2)))\n",
    "\n",
    "min_point = float(df.min())\n",
    "max_point = float(df.max())\n",
    "\n",
    "plt.figure()\n",
    "plt.plot(prob,fff,'ro')\n",
    "plt.plot([0.4, 0.4], [0, 1], 'k--')\n",
    "ax = np.arange(min_point,max_point,0.001)\n",
    "axx = list(map(f,ax))\n",
    "plt.plot(ax,axx)"
   ]
  },
  {
   "cell_type": "code",
   "execution_count": 270,
   "metadata": {},
   "outputs": [
    {
     "data": {
      "image/png": "[encoded data removed]",
      "text/plain": [
       "<Figure size 432x288 with 1 Axes>"
      ]
     },
     "metadata": {},
     "output_type": "display_data"
    }
   ],
   "source": [
    "plt.plot([0, 1], [0, 1], 'k--')\n",
    "plt.plot(fpr_unsc, tpr_unsc, label='unscaled')\n",
    "plt.plot(fpr_sc, tpr_sc, label='scaled')\n",
    "plt.xlabel('False positive rate')\n",
    "plt.ylabel('True positive rate')\n",
    "plt.title('ROC curve')\n",
    "plt.legend(loc='best')\n",
    "plt.show()"
   ]
  },
  {
   "cell_type": "markdown",
   "metadata": {},
   "source": [
    "# Random Forest"
   ]
  },
  {
   "cell_type": "code",
   "execution_count": 178,
   "metadata": {},
   "outputs": [
    {
     "data": {
      "text/plain": [
       "RandomForestRegressor(bootstrap=True, criterion='mse', max_depth=None,\n",
       "           max_features='auto', max_leaf_nodes=None,\n",
       "           min_impurity_decrease=0.0, min_impurity_split=None,\n",
       "           min_samples_leaf=1, min_samples_split=2,\n",
       "           min_weight_fraction_leaf=0.0, n_estimators=1000, n_jobs=1,\n",
       "           oob_score=False, random_state=42, verbose=0, warm_start=False)"
      ]
     },
     "execution_count": 178,
     "metadata": {},
     "output_type": "execute_result"
    }
   ],
   "source": [
    "from sklearn.ensemble import RandomForestRegressor\n",
    "rf = RandomForestRegressor(n_estimators= 1000, random_state=42)\n",
    "rf.fit(x_train, y_train)\n"
   ]
  },
  {
   "cell_type": "markdown",
   "metadata": {},
   "source": [
    "#### creating models with different hyperparameters to try and boost performance"
   ]
  },
  {
   "cell_type": "code",
   "execution_count": null,
   "metadata": {},
   "outputs": [],
   "source": [
    "predict = rf.predict(x_test)\n",
    "confusion_matrix(y_test,predict)\n",
    "print('Area under ROC Curve: ',roc_auc_score(y_test,pred))\n",
    "sns.heatmap(cm,annot = True,cmap=\"YlGnBu\")"
   ]
  },
  {
   "cell_type": "markdown",
   "metadata": {},
   "source": [
    "#### So the above tree is compelety useless for this data"
   ]
  },
  {
   "cell_type": "code",
   "execution_count": null,
   "metadata": {},
   "outputs": [],
   "source": [
    "from sklearn.tree import export_graphviz\n",
    "import graphviz\n",
    "dot_data = export_graphviz(rf, out_file=None, feature_names=x.columns,class_names=['Machine_state'],filled=True, rounded=True,  special_characters=True) \n",
    "graph = graphviz.Source(dot_data)  \n",
    "graph "
   ]
  },
  {
   "cell_type": "code",
   "execution_count": 53,
   "metadata": {},
   "outputs": [],
   "source": [
    "# Import tools needed for visualization\n",
    "from sklearn.tree import export_graphviz\n",
    "import pydotplus\n",
    "\n",
    "# Pull out one tree from the forest\n",
    "tree = rf.estimators_[5]\n",
    "\n",
    "# Export the image to a dot file\n",
    "export_graphviz(tree, out_file = 'tree1.dot', feature_names = x_test.columns, rounded = True, precision = 1)\n",
    "\n"
   ]
  },
  {
   "cell_type": "code",
   "execution_count": null,
   "metadata": {},
   "outputs": [],
   "source": []
  }
 ],
 "metadata": {
  "kernelspec": {
   "display_name": "Python 3",
   "language": "python",
   "name": "python3"
  },
  "language_info": {
   "codemirror_mode": {
    "name": "ipython",
    "version": 3
   },
   "file_extension": ".py",
   "mimetype": "text/x-python",
   "name": "python",
   "nbconvert_exporter": "python",
   "pygments_lexer": "ipython3",
   "version": "3.6.5"
  }
 },
 "nbformat": 4,
 "nbformat_minor": 2
}
